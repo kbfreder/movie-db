{
 "cells": [
  {
   "cell_type": "code",
   "execution_count": null,
   "id": "dc5f8933-1cd5-41df-8f9e-3aafb573c5b4",
   "metadata": {},
   "outputs": [],
   "source": [
    "import pandas as pd"
   ]
  },
  {
   "cell_type": "code",
   "execution_count": null,
   "id": "4231affe-e5b6-4ec7-aba1-e2f3e7332411",
   "metadata": {},
   "outputs": [],
   "source": [
    "import os"
   ]
  },
  {
   "cell_type": "code",
   "execution_count": null,
   "id": "3da1d358-8df6-4216-814c-4c5e8c5f3b76",
   "metadata": {},
   "outputs": [],
   "source": [
    "import numpy as np"
   ]
  },
  {
   "cell_type": "code",
   "execution_count": null,
   "id": "21e4b3c1-0653-43e5-acfc-eb3ef0a32976",
   "metadata": {},
   "outputs": [],
   "source": [
    "DATA_DIR = \"/Users/kendra/Data/IMDB/2024-10-05\""
   ]
  },
  {
   "cell_type": "markdown",
   "id": "7b3dee0b-4381-4ba8-9d30-67621d8d38d6",
   "metadata": {},
   "source": [
    "# names"
   ]
  },
  {
   "cell_type": "code",
   "execution_count": null,
   "id": "17d57298-5f6e-44a6-9840-32fb63c90090",
   "metadata": {},
   "outputs": [],
   "source": [
    "file_path = os.path.join(DATA_DIR, \"mod.name.tsv\")"
   ]
  },
  {
   "cell_type": "code",
   "execution_count": null,
   "id": "ffdc1706-e602-4e69-8c81-1c0b12ba4eca",
   "metadata": {},
   "outputs": [],
   "source": [
    "df1 = pd.read_csv(f'{DATA_DIR}/mod.name.tsv', sep='\\t')"
   ]
  },
  {
   "cell_type": "code",
   "execution_count": null,
   "id": "aa44af32-0b8c-46bb-92fa-6329dd6f4425",
   "metadata": {},
   "outputs": [],
   "source": [
    "df1.head()"
   ]
  },
  {
   "cell_type": "code",
   "execution_count": null,
   "id": "e7c242f9-0625-4989-8ad2-3d0bc864a294",
   "metadata": {},
   "outputs": [],
   "source": [
    "df1['is_actor'] = np.where(\n",
    "    (df1['primaryProfession:IGNORE'].str.contains('actor')) | (df1['primaryProfession:IGNORE'].str.contains('actress')),\n",
    "    1, 0)\n",
    "df1['is_director'] = np.where(\n",
    "    (df1['primaryProfession:IGNORE'].str.contains('director')),\n",
    "    1, 0)  "
   ]
  },
  {
   "cell_type": "code",
   "execution_count": null,
   "id": "1d69a69a-1d98-4205-a70d-4298b26f65cb",
   "metadata": {},
   "outputs": [],
   "source": [
    "df1.head()"
   ]
  },
  {
   "cell_type": "code",
   "execution_count": null,
   "id": "a477f693-2c80-4a10-8f7e-61d8a8db05f6",
   "metadata": {},
   "outputs": [],
   "source": [
    "len(df1)"
   ]
  },
  {
   "cell_type": "code",
   "execution_count": null,
   "id": "85af6b5c-53c2-48a7-927d-e8c0beba5380",
   "metadata": {},
   "outputs": [],
   "source": [
    "df1_filt = df1[(df1['is_actor'] == 1) | (df1['is_director'] == 1)]"
   ]
  },
  {
   "cell_type": "code",
   "execution_count": null,
   "id": "7110da36-d6ee-4575-9aae-d4fb733ec821",
   "metadata": {},
   "outputs": [],
   "source": [
    "len(df1_filt)"
   ]
  },
  {
   "cell_type": "code",
   "execution_count": null,
   "id": "dbc90a04-8d66-45af-9006-50233c309a2f",
   "metadata": {},
   "outputs": [],
   "source": [
    "df1_filt = df1_filt.drop(columns=['is_actor', 'is_director', 'primaryProfession:IGNORE', 'knownForTitles:IGNORE'])"
   ]
  },
  {
   "cell_type": "code",
   "execution_count": null,
   "id": "ca5aa371-5ca1-4780-ade2-ae9b1fb74eac",
   "metadata": {},
   "outputs": [],
   "source": [
    "df1_filt.head()"
   ]
  },
  {
   "cell_type": "code",
   "execution_count": null,
   "id": "f33191e3-92ad-47cf-91ff-2461c0b3d5ca",
   "metadata": {},
   "outputs": [],
   "source": [
    "df1_filt.tail()"
   ]
  },
  {
   "cell_type": "code",
   "execution_count": null,
   "id": "f90564d7-1713-4460-b5e0-675630430507",
   "metadata": {},
   "outputs": [],
   "source": [
    "n_filt = len(df1_filt)\n",
    "n_filt"
   ]
  },
  {
   "cell_type": "code",
   "execution_count": null,
   "id": "d71a2d05-1d38-4464-86a7-6526aaa10953",
   "metadata": {},
   "outputs": [],
   "source": [
    "len(df1_filt[df1_filt['birthYear'] == '\\\\N'])"
   ]
  },
  {
   "cell_type": "code",
   "execution_count": null,
   "id": "5bcdc07a-c22a-4d7f-90c5-465520138f7e",
   "metadata": {},
   "outputs": [],
   "source": [
    "df1_filt[df1_filt['birthYear'] == '\\\\N'].sample(10)"
   ]
  },
  {
   "cell_type": "code",
   "execution_count": null,
   "id": "baa810ff-15eb-4945-9907-f4fe10e49e39",
   "metadata": {},
   "outputs": [],
   "source": [
    "df1_filt = df1_filt[df1_filt['birthYear'] != '\\\\N']"
   ]
  },
  {
   "cell_type": "code",
   "execution_count": null,
   "id": "5244190b-0bb8-43ad-8b2e-9b89a9463584",
   "metadata": {},
   "outputs": [],
   "source": [
    "n_filt2 = len(df1_filt)"
   ]
  },
  {
   "cell_type": "code",
   "execution_count": null,
   "id": "a385e216-59ea-4584-9bea-60e90206e241",
   "metadata": {},
   "outputs": [],
   "source": [
    "n_filt2"
   ]
  },
  {
   "cell_type": "code",
   "execution_count": null,
   "id": "8cd03eae-8920-4d22-9bbf-b1c6475e85a2",
   "metadata": {},
   "outputs": [],
   "source": [
    "df1_filt.sample(10)"
   ]
  },
  {
   "cell_type": "code",
   "execution_count": null,
   "id": "67a29a49-124e-4fbf-bbe8-f9371f90a956",
   "metadata": {},
   "outputs": [],
   "source": [
    "# replace '\\N' with nulls\n",
    "df1_filt['deathYear'] = np.where(df1_filt['deathYear'] == '\\\\N', np.nan, df1_filt['deathYear'])"
   ]
  },
  {
   "cell_type": "code",
   "execution_count": null,
   "id": "3e3ba5a5-a988-42d7-886e-647d065bb6cf",
   "metadata": {},
   "outputs": [],
   "source": [
    "df1_filt.sample(10)"
   ]
  },
  {
   "cell_type": "code",
   "execution_count": null,
   "id": "c6d3aad9-c078-475d-a9d7-78cc686360cb",
   "metadata": {},
   "outputs": [],
   "source": []
  },
  {
   "cell_type": "code",
   "execution_count": null,
   "id": "3eca4785-4e83-4c96-91cb-4816f51c1554",
   "metadata": {},
   "outputs": [],
   "source": [
    "import re"
   ]
  },
  {
   "cell_type": "code",
   "execution_count": null,
   "id": "6ea4fa05-ed4d-4e1c-88ec-121801c60041",
   "metadata": {},
   "outputs": [],
   "source": [
    "x = 'nm0000001'\n",
    "id_regex = r'nm0*(\\d*)'\n",
    "m = re.match(id_regex, x)\n",
    "m.group(1)"
   ]
  },
  {
   "cell_type": "code",
   "execution_count": null,
   "id": "d653c8c3-ed12-49da-b625-e49bb3a42e8e",
   "metadata": {},
   "outputs": [],
   "source": [
    "m"
   ]
  },
  {
   "cell_type": "code",
   "execution_count": null,
   "id": "fa4d45ec-3825-46fa-9ef1-13b358ecdbdf",
   "metadata": {},
   "outputs": [],
   "source": [
    "x = 'nm5453206'\n",
    "m = re.match(id_regex, x)\n",
    "m.group(1)"
   ]
  },
  {
   "cell_type": "code",
   "execution_count": null,
   "id": "70cbc52b-1d05-409d-b256-5557483183ef",
   "metadata": {},
   "outputs": [],
   "source": []
  },
  {
   "cell_type": "code",
   "execution_count": null,
   "id": "074bb277-82f1-425e-8662-ce0b1223178c",
   "metadata": {},
   "outputs": [],
   "source": []
  },
  {
   "cell_type": "code",
   "execution_count": null,
   "id": "017b5b8a-d92e-4701-ab58-fccf074dce5d",
   "metadata": {},
   "outputs": [],
   "source": [
    "df1_filt['id'] = df1_filt['nameId:ID(Person)'].apply(lambda x: int(re.match(id_regex, x).group(1)))"
   ]
  },
  {
   "cell_type": "code",
   "execution_count": null,
   "id": "cd04a222-c6a5-4754-b395-7ceaf8beadaa",
   "metadata": {},
   "outputs": [],
   "source": [
    "df1_filt.sample(10)"
   ]
  },
  {
   "cell_type": "code",
   "execution_count": null,
   "id": "b4f0739f-d857-4052-be92-f62a3a6e0fb0",
   "metadata": {},
   "outputs": [],
   "source": [
    "df1_filt['nameId:ID(Person)'] = df1_filt['id']\n",
    "df1_filt = df1_filt.drop(columns=['id'])"
   ]
  },
  {
   "cell_type": "code",
   "execution_count": null,
   "id": "6099b6d8-4324-4c08-a987-db6cec26bd46",
   "metadata": {},
   "outputs": [],
   "source": [
    "df1_filt.sample(10)"
   ]
  },
  {
   "cell_type": "code",
   "execution_count": null,
   "id": "08e73c7c-5e88-4f32-8b0c-efb592361d60",
   "metadata": {},
   "outputs": [],
   "source": [
    "df1_filt.to_csv(file_path, header=True, index=False)"
   ]
  },
  {
   "cell_type": "code",
   "execution_count": null,
   "id": "a8b10c7a-92a9-45bb-bf4d-dd1897b85048",
   "metadata": {},
   "outputs": [],
   "source": [
    "del df1, df1_filt"
   ]
  },
  {
   "cell_type": "markdown",
   "id": "77b4ee45-8e23-4567-a1a1-df8c8a7dd7f9",
   "metadata": {},
   "source": [
    "# title basics"
   ]
  },
  {
   "cell_type": "code",
   "execution_count": null,
   "id": "2c00e70c-515f-4994-a8c8-3ebb4a12efdb",
   "metadata": {},
   "outputs": [],
   "source": [
    "file_path = os.path.join(DATA_DIR, \"mod.titles.basic.tsv\")\n",
    "df = pd.read_csv(file_path, sep='\\t')"
   ]
  },
  {
   "cell_type": "code",
   "execution_count": null,
   "id": "45318997-fa25-4c9b-9532-725cd993bdbd",
   "metadata": {},
   "outputs": [],
   "source": [
    "df.head()"
   ]
  },
  {
   "cell_type": "code",
   "execution_count": null,
   "id": "839187e0-57ed-4d31-9454-b7fa09b5891e",
   "metadata": {},
   "outputs": [],
   "source": [
    "name_id_regex = r'nm0*(\\d*)'\n",
    "title_id_regex = r'tt0*(\\d*)'\n",
    "df['titleId:ID(title)'] = df['titleId:ID(title)'].apply(lambda x: int(re.match(title_id_regex, x).group(1)))"
   ]
  },
  {
   "cell_type": "code",
   "execution_count": null,
   "id": "178a6181-cb41-4ef5-b335-28220120dd7d",
   "metadata": {},
   "outputs": [],
   "source": [
    "df.sample(10)"
   ]
  },
  {
   "cell_type": "code",
   "execution_count": null,
   "id": "a3e70c80-ca31-4246-b537-4b93fb9c3d3a",
   "metadata": {},
   "outputs": [],
   "source": [
    "n = len(df)"
   ]
  },
  {
   "cell_type": "code",
   "execution_count": null,
   "id": "35a2eb42-1c0d-4adf-922c-a5bd00ff3e92",
   "metadata": {},
   "outputs": [],
   "source": [
    "df['titleType'].value_counts()"
   ]
  },
  {
   "cell_type": "code",
   "execution_count": null,
   "id": "1fa1a1fe-3307-4e6a-afbc-3e5c94473b4c",
   "metadata": {},
   "outputs": [],
   "source": [
    "df_filt = df[df['isAdult:IGNORE'] == 0]"
   ]
  },
  {
   "cell_type": "code",
   "execution_count": null,
   "id": "9f7e00cb-206e-408c-8134-a227282c8f34",
   "metadata": {},
   "outputs": [],
   "source": [
    "n_filt = len(df_filt)\n",
    "n_filt, n_filt/n"
   ]
  },
  {
   "cell_type": "code",
   "execution_count": null,
   "id": "44fa7a7f-ab40-4027-8201-68a2cf83a833",
   "metadata": {},
   "outputs": [],
   "source": [
    "df_filt[df_filt['titleType'] == 'video'].sample(10)"
   ]
  },
  {
   "cell_type": "code",
   "execution_count": null,
   "id": "4c7dafcb-d43b-4312-9a22-77129de09bda",
   "metadata": {},
   "outputs": [],
   "source": []
  },
  {
   "cell_type": "code",
   "execution_count": null,
   "id": "4ce0df92-c455-4b3e-bc78-954d95711c53",
   "metadata": {},
   "outputs": [],
   "source": [
    "df_no_tv = df_filt[df_filt['titleType'].isin(['short', 'movie'])]"
   ]
  },
  {
   "cell_type": "code",
   "execution_count": null,
   "id": "2be36ed5-e206-4b60-a6bc-917521a896f1",
   "metadata": {},
   "outputs": [],
   "source": [
    "n_no_tv = len(df_no_tv)\n",
    "n_no_tv, n_no_tv/n_filt"
   ]
  },
  {
   "cell_type": "code",
   "execution_count": null,
   "id": "cebe783d-ae43-4951-953e-6cf398fc3d17",
   "metadata": {},
   "outputs": [],
   "source": [
    "df_no_tv.sample(10)"
   ]
  },
  {
   "cell_type": "code",
   "execution_count": null,
   "id": "a0f0c2f4-c696-4cd2-b812-feab78f0aea9",
   "metadata": {},
   "outputs": [],
   "source": [
    "df_no_tv['titleType'].value_counts(1)"
   ]
  },
  {
   "cell_type": "code",
   "execution_count": null,
   "id": "ac02be3d-9611-4339-8c74-ce8f87c461ce",
   "metadata": {},
   "outputs": [],
   "source": [
    "df_no_tv['titleType'].value_counts()"
   ]
  },
  {
   "cell_type": "code",
   "execution_count": null,
   "id": "15cd4aa7-986e-4aed-9b66-5a4f737db38b",
   "metadata": {},
   "outputs": [],
   "source": [
    "df_movies = df_filt[df_filt['titleType'] == 'movie']\n",
    "len(df_movies)"
   ]
  },
  {
   "cell_type": "code",
   "execution_count": null,
   "id": "033f4f33-7e05-409a-8e2f-0760a82a086d",
   "metadata": {},
   "outputs": [],
   "source": [
    "df_movies.sample(10)"
   ]
  },
  {
   "cell_type": "code",
   "execution_count": null,
   "id": "195bbc98-d56c-450b-9deb-b314a1ed1af2",
   "metadata": {},
   "outputs": [],
   "source": [
    "# replace '\\N' with nulls\n",
    "df_movies['startYear'] = np.where(df_movies['startYear'] == '\\\\N', np.nan, df_movies['startYear'])\n",
    "df_movies['runtimeMinutes'] = np.where(df_movies['runtimeMinutes'] == '\\\\N', np.nan, df_movies['runtimeMinutes'])"
   ]
  },
  {
   "cell_type": "code",
   "execution_count": null,
   "id": "7a1c4348-6d7a-4192-9ac3-5bbe9680bc5c",
   "metadata": {},
   "outputs": [],
   "source": [
    "(df_movies.drop(columns=['isAdult:IGNORE', 'originalTitle', 'endYear'])\n",
    "    .to_csv(os.path.join(DATA_DIR, \"filt.titles.basic.csv\"), header=True, index=False)\n",
    ")"
   ]
  },
  {
   "cell_type": "code",
   "execution_count": null,
   "id": "83d29aed-17c0-42e6-a3b9-18ceb1dd6d01",
   "metadata": {},
   "outputs": [],
   "source": []
  }
 ],
 "metadata": {
  "kernelspec": {
   "display_name": "general-eda",
   "language": "python",
   "name": "general-eda"
  },
  "language_info": {
   "codemirror_mode": {
    "name": "ipython",
    "version": 3
   },
   "file_extension": ".py",
   "mimetype": "text/x-python",
   "name": "python",
   "nbconvert_exporter": "python",
   "pygments_lexer": "ipython3",
   "version": "3.11.5"
  }
 },
 "nbformat": 4,
 "nbformat_minor": 5
}
