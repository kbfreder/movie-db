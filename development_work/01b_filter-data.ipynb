{
 "cells": [
  {
   "cell_type": "code",
   "execution_count": 1,
   "id": "e6537960-57d7-4a71-8f90-bd2c7927a659",
   "metadata": {},
   "outputs": [],
   "source": [
    "import os\n",
    "import pandas as pd\n",
    "import numpy as np\n",
    "import re"
   ]
  },
  {
   "cell_type": "code",
   "execution_count": 2,
   "id": "21e4b3c1-0653-43e5-acfc-eb3ef0a32976",
   "metadata": {},
   "outputs": [],
   "source": [
    "DATA_DIR = \"/Users/kendra/Data/IMDB/2024-10-05\""
   ]
  },
  {
   "cell_type": "markdown",
   "id": "d49388c3-f289-4c93-8e1a-e129af46103c",
   "metadata": {},
   "source": [
    "## name"
   ]
  },
  {
   "cell_type": "code",
   "execution_count": 51,
   "id": "17d57298-5f6e-44a6-9840-32fb63c90090",
   "metadata": {},
   "outputs": [],
   "source": [
    "file_path = os.path.join(DATA_DIR, \"name.basics.tsv\")"
   ]
  },
  {
   "cell_type": "code",
   "execution_count": 52,
   "id": "ffdc1706-e602-4e69-8c81-1c0b12ba4eca",
   "metadata": {},
   "outputs": [],
   "source": [
    "df1 = pd.read_csv(file_path, sep='\\t')"
   ]
  },
  {
   "cell_type": "code",
   "execution_count": 53,
   "id": "aa44af32-0b8c-46bb-92fa-6329dd6f4425",
   "metadata": {},
   "outputs": [
    {
     "data": {
      "text/html": [
       "<div>\n",
       "<style scoped>\n",
       "    .dataframe tbody tr th:only-of-type {\n",
       "        vertical-align: middle;\n",
       "    }\n",
       "\n",
       "    .dataframe tbody tr th {\n",
       "        vertical-align: top;\n",
       "    }\n",
       "\n",
       "    .dataframe thead th {\n",
       "        text-align: right;\n",
       "    }\n",
       "</style>\n",
       "<table border=\"1\" class=\"dataframe\">\n",
       "  <thead>\n",
       "    <tr style=\"text-align: right;\">\n",
       "      <th></th>\n",
       "      <th>nconst</th>\n",
       "      <th>primaryName</th>\n",
       "      <th>birthYear</th>\n",
       "      <th>deathYear</th>\n",
       "      <th>primaryProfession</th>\n",
       "      <th>knownForTitles</th>\n",
       "    </tr>\n",
       "  </thead>\n",
       "  <tbody>\n",
       "    <tr>\n",
       "      <th>0</th>\n",
       "      <td>nm0000001</td>\n",
       "      <td>Fred Astaire</td>\n",
       "      <td>1899</td>\n",
       "      <td>1987</td>\n",
       "      <td>actor,miscellaneous,producer</td>\n",
       "      <td>tt0072308,tt0050419,tt0053137,tt0027125</td>\n",
       "    </tr>\n",
       "    <tr>\n",
       "      <th>1</th>\n",
       "      <td>nm0000002</td>\n",
       "      <td>Lauren Bacall</td>\n",
       "      <td>1924</td>\n",
       "      <td>2014</td>\n",
       "      <td>actress,soundtrack,archive_footage</td>\n",
       "      <td>tt0037382,tt0075213,tt0117057,tt0038355</td>\n",
       "    </tr>\n",
       "    <tr>\n",
       "      <th>2</th>\n",
       "      <td>nm0000003</td>\n",
       "      <td>Brigitte Bardot</td>\n",
       "      <td>1934</td>\n",
       "      <td>\\N</td>\n",
       "      <td>actress,music_department,producer</td>\n",
       "      <td>tt0057345,tt0049189,tt0056404,tt0054452</td>\n",
       "    </tr>\n",
       "    <tr>\n",
       "      <th>3</th>\n",
       "      <td>nm0000004</td>\n",
       "      <td>John Belushi</td>\n",
       "      <td>1949</td>\n",
       "      <td>1982</td>\n",
       "      <td>actor,writer,music_department</td>\n",
       "      <td>tt0072562,tt0077975,tt0080455,tt0078723</td>\n",
       "    </tr>\n",
       "    <tr>\n",
       "      <th>4</th>\n",
       "      <td>nm0000005</td>\n",
       "      <td>Ingmar Bergman</td>\n",
       "      <td>1918</td>\n",
       "      <td>2007</td>\n",
       "      <td>writer,director,actor</td>\n",
       "      <td>tt0050986,tt0083922,tt0050976,tt0069467</td>\n",
       "    </tr>\n",
       "  </tbody>\n",
       "</table>\n",
       "</div>"
      ],
      "text/plain": [
       "      nconst      primaryName birthYear deathYear  \\\n",
       "0  nm0000001     Fred Astaire      1899      1987   \n",
       "1  nm0000002    Lauren Bacall      1924      2014   \n",
       "2  nm0000003  Brigitte Bardot      1934        \\N   \n",
       "3  nm0000004     John Belushi      1949      1982   \n",
       "4  nm0000005   Ingmar Bergman      1918      2007   \n",
       "\n",
       "                    primaryProfession                           knownForTitles  \n",
       "0        actor,miscellaneous,producer  tt0072308,tt0050419,tt0053137,tt0027125  \n",
       "1  actress,soundtrack,archive_footage  tt0037382,tt0075213,tt0117057,tt0038355  \n",
       "2   actress,music_department,producer  tt0057345,tt0049189,tt0056404,tt0054452  \n",
       "3       actor,writer,music_department  tt0072562,tt0077975,tt0080455,tt0078723  \n",
       "4               writer,director,actor  tt0050986,tt0083922,tt0050976,tt0069467  "
      ]
     },
     "execution_count": 53,
     "metadata": {},
     "output_type": "execute_result"
    }
   ],
   "source": [
    "df1.head()"
   ]
  },
  {
   "cell_type": "code",
   "execution_count": 9,
   "id": "e43035f4-6d80-4c56-b1e3-24506e78c846",
   "metadata": {},
   "outputs": [
    {
     "data": {
      "text/plain": [
       "Index(['nconst', 'primaryName', 'birthYear', 'deathYear', 'primaryProfession',\n",
       "       'knownForTitles'],\n",
       "      dtype='object')"
      ]
     },
     "execution_count": 9,
     "metadata": {},
     "output_type": "execute_result"
    }
   ],
   "source": [
    "df1.columns"
   ]
  },
  {
   "cell_type": "code",
   "execution_count": 66,
   "id": "75a52fee-f26d-45ab-b8be-1f9b1de51a22",
   "metadata": {},
   "outputs": [],
   "source": [
    "ignore_cols = ['primaryProfession', 'knownForTitles']\n",
    "\n",
    "rename_dict = {\n",
    "    'nconst': 'nameId:ID(Person)'\n",
    "}\n",
    "\n",
    "for col in ignore_cols:\n",
    "    rename_dict[col] = f'{col}:IGNORE'"
   ]
  },
  {
   "cell_type": "code",
   "execution_count": 12,
   "id": "575fd647-155b-4ae9-abc4-2fd1a2b09701",
   "metadata": {},
   "outputs": [
    {
     "data": {
      "text/plain": [
       "{'nconst': 'nameId:ID(Person)',\n",
       " 'primaryProfession': 'primaryProfession:IGNORE',\n",
       " 'knownForTitles': 'knownForTitles:IGNORE'}"
      ]
     },
     "execution_count": 12,
     "metadata": {},
     "output_type": "execute_result"
    }
   ],
   "source": [
    "rename_dict"
   ]
  },
  {
   "cell_type": "code",
   "execution_count": 55,
   "id": "6425a2b4-3615-4baf-81bd-9f5e4f1d966e",
   "metadata": {},
   "outputs": [],
   "source": [
    "df1['is_actor'] = np.where(\n",
    "    (df1['primaryProfession'].str.contains('actor')) | (df1['primaryProfession'].str.contains('actress')),\n",
    "    1, 0)\n",
    "df1['is_director'] = np.where(\n",
    "    (df1['primaryProfession'].str.contains('director')),\n",
    "    1, 0)  \n",
    "\n",
    "df1_filt = df1[(df1['is_actor'] == 1) | (df1['is_director'] == 1)]"
   ]
  },
  {
   "cell_type": "code",
   "execution_count": 14,
   "id": "61530589-8232-451d-b6f0-4526b4e5fa2b",
   "metadata": {},
   "outputs": [
    {
     "data": {
      "text/plain": [
       "(6019760, 0.43474919893183206)"
      ]
     },
     "execution_count": 14,
     "metadata": {},
     "output_type": "execute_result"
    }
   ],
   "source": [
    "n = len(df1)\n",
    "nf1 = len(df1_filt)\n",
    "nf1, nf1/n"
   ]
  },
  {
   "cell_type": "markdown",
   "id": "d56ce9d9-c55d-4b74-994d-b9d112a62d9f",
   "metadata": {},
   "source": [
    "## aside: find \"bad\" nodes"
   ]
  },
  {
   "cell_type": "code",
   "execution_count": 54,
   "id": "6d2fd9a1-b800-468a-8c3e-29e236f74156",
   "metadata": {
    "collapsed": true,
    "jupyter": {
     "outputs_hidden": true
    }
   },
   "outputs": [
    {
     "data": {
      "text/html": [
       "<div>\n",
       "<style scoped>\n",
       "    .dataframe tbody tr th:only-of-type {\n",
       "        vertical-align: middle;\n",
       "    }\n",
       "\n",
       "    .dataframe tbody tr th {\n",
       "        vertical-align: top;\n",
       "    }\n",
       "\n",
       "    .dataframe thead th {\n",
       "        text-align: right;\n",
       "    }\n",
       "</style>\n",
       "<table border=\"1\" class=\"dataframe\">\n",
       "  <thead>\n",
       "    <tr style=\"text-align: right;\">\n",
       "      <th></th>\n",
       "      <th>nconst</th>\n",
       "      <th>primaryName</th>\n",
       "      <th>birthYear</th>\n",
       "      <th>deathYear</th>\n",
       "      <th>primaryProfession</th>\n",
       "      <th>knownForTitles</th>\n",
       "    </tr>\n",
       "  </thead>\n",
       "  <tbody>\n",
       "    <tr>\n",
       "      <th>679725</th>\n",
       "      <td>nm0721526</td>\n",
       "      <td>Émile Reynaud</td>\n",
       "      <td>1844</td>\n",
       "      <td>1918</td>\n",
       "      <td>director,animation_department,producer</td>\n",
       "      <td>tt32169968,tt0000003,tt16763740,tt16763674</td>\n",
       "    </tr>\n",
       "    <tr>\n",
       "      <th>1591885</th>\n",
       "      <td>nm10721526</td>\n",
       "      <td>Haris Georgiou</td>\n",
       "      <td>\\N</td>\n",
       "      <td>\\N</td>\n",
       "      <td>editor</td>\n",
       "      <td>tt7149270</td>\n",
       "    </tr>\n",
       "    <tr>\n",
       "      <th>2550000</th>\n",
       "      <td>nm11721526</td>\n",
       "      <td>Trent Jenkins</td>\n",
       "      <td>\\N</td>\n",
       "      <td>\\N</td>\n",
       "      <td>director,actor,writer</td>\n",
       "      <td>tt12670402</td>\n",
       "    </tr>\n",
       "    <tr>\n",
       "      <th>3490429</th>\n",
       "      <td>nm12721526</td>\n",
       "      <td>Brice Beauer</td>\n",
       "      <td>\\N</td>\n",
       "      <td>\\N</td>\n",
       "      <td>actor,writer</td>\n",
       "      <td>tt14961642</td>\n",
       "    </tr>\n",
       "    <tr>\n",
       "      <th>4421052</th>\n",
       "      <td>nm13721526</td>\n",
       "      <td>Isabelle Stadelmann-Steffen</td>\n",
       "      <td>\\N</td>\n",
       "      <td>\\N</td>\n",
       "      <td>\\N</td>\n",
       "      <td>tt20255128</td>\n",
       "    </tr>\n",
       "    <tr>\n",
       "      <th>5285859</th>\n",
       "      <td>nm14721526</td>\n",
       "      <td>Isobel Onions</td>\n",
       "      <td>\\N</td>\n",
       "      <td>\\N</td>\n",
       "      <td>costume_designer</td>\n",
       "      <td>tt27385799</td>\n",
       "    </tr>\n",
       "    <tr>\n",
       "      <th>6152938</th>\n",
       "      <td>nm15721526</td>\n",
       "      <td>Jane Allison</td>\n",
       "      <td>\\N</td>\n",
       "      <td>\\N</td>\n",
       "      <td>\\N</td>\n",
       "      <td>tt0412116</td>\n",
       "    </tr>\n",
       "    <tr>\n",
       "      <th>6984814</th>\n",
       "      <td>nm1721526</td>\n",
       "      <td>Marina Karvas</td>\n",
       "      <td>\\N</td>\n",
       "      <td>\\N</td>\n",
       "      <td>miscellaneous</td>\n",
       "      <td>tt0420868</td>\n",
       "    </tr>\n",
       "    <tr>\n",
       "      <th>7871883</th>\n",
       "      <td>nm2721526</td>\n",
       "      <td>Marian Wright</td>\n",
       "      <td>\\N</td>\n",
       "      <td>\\N</td>\n",
       "      <td>actress</td>\n",
       "      <td>tt0051307</td>\n",
       "    </tr>\n",
       "    <tr>\n",
       "      <th>8767586</th>\n",
       "      <td>nm3721526</td>\n",
       "      <td>Gyeong-soo Choi</td>\n",
       "      <td>\\N</td>\n",
       "      <td>\\N</td>\n",
       "      <td>miscellaneous</td>\n",
       "      <td>tt0985344</td>\n",
       "    </tr>\n",
       "    <tr>\n",
       "      <th>9624919</th>\n",
       "      <td>nm4721526</td>\n",
       "      <td>Olivier Metais</td>\n",
       "      <td>\\N</td>\n",
       "      <td>\\N</td>\n",
       "      <td>art_department</td>\n",
       "      <td>tt0856288</td>\n",
       "    </tr>\n",
       "    <tr>\n",
       "      <th>10508389</th>\n",
       "      <td>nm5721526</td>\n",
       "      <td>Eleanor King</td>\n",
       "      <td>\\N</td>\n",
       "      <td>\\N</td>\n",
       "      <td>actress,writer,producer</td>\n",
       "      <td>tt2968700</td>\n",
       "    </tr>\n",
       "    <tr>\n",
       "      <th>11258391</th>\n",
       "      <td>nm6721526</td>\n",
       "      <td>Mandy Barnes</td>\n",
       "      <td>\\N</td>\n",
       "      <td>\\N</td>\n",
       "      <td>art_department</td>\n",
       "      <td>tt0108583</td>\n",
       "    </tr>\n",
       "    <tr>\n",
       "      <th>12017143</th>\n",
       "      <td>nm7721526</td>\n",
       "      <td>Sadie Weschler</td>\n",
       "      <td>\\N</td>\n",
       "      <td>\\N</td>\n",
       "      <td>art_director</td>\n",
       "      <td>tt3657200</td>\n",
       "    </tr>\n",
       "    <tr>\n",
       "      <th>12806609</th>\n",
       "      <td>nm8721526</td>\n",
       "      <td>Reanon Casillo</td>\n",
       "      <td>\\N</td>\n",
       "      <td>\\N</td>\n",
       "      <td>make_up_department,producer,miscellaneous</td>\n",
       "      <td>tt11317170,tt16358384,tt15126712,tt6400726</td>\n",
       "    </tr>\n",
       "    <tr>\n",
       "      <th>13614236</th>\n",
       "      <td>nm9721526</td>\n",
       "      <td>Andres Lopez</td>\n",
       "      <td>\\N</td>\n",
       "      <td>\\N</td>\n",
       "      <td>actor</td>\n",
       "      <td>tt8184618</td>\n",
       "    </tr>\n",
       "  </tbody>\n",
       "</table>\n",
       "</div>"
      ],
      "text/plain": [
       "              nconst                  primaryName birthYear deathYear  \\\n",
       "679725     nm0721526                Émile Reynaud      1844      1918   \n",
       "1591885   nm10721526               Haris Georgiou        \\N        \\N   \n",
       "2550000   nm11721526                Trent Jenkins        \\N        \\N   \n",
       "3490429   nm12721526                 Brice Beauer        \\N        \\N   \n",
       "4421052   nm13721526  Isabelle Stadelmann-Steffen        \\N        \\N   \n",
       "5285859   nm14721526                Isobel Onions        \\N        \\N   \n",
       "6152938   nm15721526                 Jane Allison        \\N        \\N   \n",
       "6984814    nm1721526                Marina Karvas        \\N        \\N   \n",
       "7871883    nm2721526                Marian Wright        \\N        \\N   \n",
       "8767586    nm3721526              Gyeong-soo Choi        \\N        \\N   \n",
       "9624919    nm4721526               Olivier Metais        \\N        \\N   \n",
       "10508389   nm5721526                 Eleanor King        \\N        \\N   \n",
       "11258391   nm6721526                 Mandy Barnes        \\N        \\N   \n",
       "12017143   nm7721526               Sadie Weschler        \\N        \\N   \n",
       "12806609   nm8721526               Reanon Casillo        \\N        \\N   \n",
       "13614236   nm9721526                 Andres Lopez        \\N        \\N   \n",
       "\n",
       "                                  primaryProfession  \\\n",
       "679725       director,animation_department,producer   \n",
       "1591885                                      editor   \n",
       "2550000                       director,actor,writer   \n",
       "3490429                                actor,writer   \n",
       "4421052                                          \\N   \n",
       "5285859                            costume_designer   \n",
       "6152938                                          \\N   \n",
       "6984814                               miscellaneous   \n",
       "7871883                                     actress   \n",
       "8767586                               miscellaneous   \n",
       "9624919                              art_department   \n",
       "10508389                    actress,writer,producer   \n",
       "11258391                             art_department   \n",
       "12017143                               art_director   \n",
       "12806609  make_up_department,producer,miscellaneous   \n",
       "13614236                                      actor   \n",
       "\n",
       "                                      knownForTitles  \n",
       "679725    tt32169968,tt0000003,tt16763740,tt16763674  \n",
       "1591885                                    tt7149270  \n",
       "2550000                                   tt12670402  \n",
       "3490429                                   tt14961642  \n",
       "4421052                                   tt20255128  \n",
       "5285859                                   tt27385799  \n",
       "6152938                                    tt0412116  \n",
       "6984814                                    tt0420868  \n",
       "7871883                                    tt0051307  \n",
       "8767586                                    tt0985344  \n",
       "9624919                                    tt0856288  \n",
       "10508389                                   tt2968700  \n",
       "11258391                                   tt0108583  \n",
       "12017143                                   tt3657200  \n",
       "12806609  tt11317170,tt16358384,tt15126712,tt6400726  \n",
       "13614236                                   tt8184618  "
      ]
     },
     "execution_count": 54,
     "metadata": {},
     "output_type": "execute_result"
    }
   ],
   "source": [
    "nid = '721526'\n",
    "df1[df1['nconst'].str.endswith(nid)]"
   ]
  },
  {
   "cell_type": "markdown",
   "id": "e6514859-fc44-4666-b1e6-fcee5ecef286",
   "metadata": {},
   "source": [
    "## resume"
   ]
  },
  {
   "cell_type": "code",
   "execution_count": 56,
   "id": "35127e57-48d1-4229-b84e-2e9bec8e4b1f",
   "metadata": {},
   "outputs": [
    {
     "data": {
      "text/html": [
       "<div>\n",
       "<style scoped>\n",
       "    .dataframe tbody tr th:only-of-type {\n",
       "        vertical-align: middle;\n",
       "    }\n",
       "\n",
       "    .dataframe tbody tr th {\n",
       "        vertical-align: top;\n",
       "    }\n",
       "\n",
       "    .dataframe thead th {\n",
       "        text-align: right;\n",
       "    }\n",
       "</style>\n",
       "<table border=\"1\" class=\"dataframe\">\n",
       "  <thead>\n",
       "    <tr style=\"text-align: right;\">\n",
       "      <th></th>\n",
       "      <th>nconst</th>\n",
       "      <th>primaryName</th>\n",
       "      <th>birthYear</th>\n",
       "      <th>deathYear</th>\n",
       "      <th>primaryProfession</th>\n",
       "      <th>knownForTitles</th>\n",
       "      <th>is_actor</th>\n",
       "      <th>is_director</th>\n",
       "    </tr>\n",
       "  </thead>\n",
       "  <tbody>\n",
       "    <tr>\n",
       "      <th>679725</th>\n",
       "      <td>nm0721526</td>\n",
       "      <td>Émile Reynaud</td>\n",
       "      <td>1844</td>\n",
       "      <td>1918</td>\n",
       "      <td>director,animation_department,producer</td>\n",
       "      <td>tt32169968,tt0000003,tt16763740,tt16763674</td>\n",
       "      <td>0</td>\n",
       "      <td>1</td>\n",
       "    </tr>\n",
       "    <tr>\n",
       "      <th>2550000</th>\n",
       "      <td>nm11721526</td>\n",
       "      <td>Trent Jenkins</td>\n",
       "      <td>\\N</td>\n",
       "      <td>\\N</td>\n",
       "      <td>director,actor,writer</td>\n",
       "      <td>tt12670402</td>\n",
       "      <td>1</td>\n",
       "      <td>1</td>\n",
       "    </tr>\n",
       "    <tr>\n",
       "      <th>3490429</th>\n",
       "      <td>nm12721526</td>\n",
       "      <td>Brice Beauer</td>\n",
       "      <td>\\N</td>\n",
       "      <td>\\N</td>\n",
       "      <td>actor,writer</td>\n",
       "      <td>tt14961642</td>\n",
       "      <td>1</td>\n",
       "      <td>0</td>\n",
       "    </tr>\n",
       "    <tr>\n",
       "      <th>7871883</th>\n",
       "      <td>nm2721526</td>\n",
       "      <td>Marian Wright</td>\n",
       "      <td>\\N</td>\n",
       "      <td>\\N</td>\n",
       "      <td>actress</td>\n",
       "      <td>tt0051307</td>\n",
       "      <td>1</td>\n",
       "      <td>0</td>\n",
       "    </tr>\n",
       "    <tr>\n",
       "      <th>10508389</th>\n",
       "      <td>nm5721526</td>\n",
       "      <td>Eleanor King</td>\n",
       "      <td>\\N</td>\n",
       "      <td>\\N</td>\n",
       "      <td>actress,writer,producer</td>\n",
       "      <td>tt2968700</td>\n",
       "      <td>1</td>\n",
       "      <td>0</td>\n",
       "    </tr>\n",
       "    <tr>\n",
       "      <th>12017143</th>\n",
       "      <td>nm7721526</td>\n",
       "      <td>Sadie Weschler</td>\n",
       "      <td>\\N</td>\n",
       "      <td>\\N</td>\n",
       "      <td>art_director</td>\n",
       "      <td>tt3657200</td>\n",
       "      <td>0</td>\n",
       "      <td>1</td>\n",
       "    </tr>\n",
       "    <tr>\n",
       "      <th>13614236</th>\n",
       "      <td>nm9721526</td>\n",
       "      <td>Andres Lopez</td>\n",
       "      <td>\\N</td>\n",
       "      <td>\\N</td>\n",
       "      <td>actor</td>\n",
       "      <td>tt8184618</td>\n",
       "      <td>1</td>\n",
       "      <td>0</td>\n",
       "    </tr>\n",
       "  </tbody>\n",
       "</table>\n",
       "</div>"
      ],
      "text/plain": [
       "              nconst     primaryName birthYear deathYear  \\\n",
       "679725     nm0721526   Émile Reynaud      1844      1918   \n",
       "2550000   nm11721526   Trent Jenkins        \\N        \\N   \n",
       "3490429   nm12721526    Brice Beauer        \\N        \\N   \n",
       "7871883    nm2721526   Marian Wright        \\N        \\N   \n",
       "10508389   nm5721526    Eleanor King        \\N        \\N   \n",
       "12017143   nm7721526  Sadie Weschler        \\N        \\N   \n",
       "13614236   nm9721526    Andres Lopez        \\N        \\N   \n",
       "\n",
       "                               primaryProfession  \\\n",
       "679725    director,animation_department,producer   \n",
       "2550000                    director,actor,writer   \n",
       "3490429                             actor,writer   \n",
       "7871883                                  actress   \n",
       "10508389                 actress,writer,producer   \n",
       "12017143                            art_director   \n",
       "13614236                                   actor   \n",
       "\n",
       "                                      knownForTitles  is_actor  is_director  \n",
       "679725    tt32169968,tt0000003,tt16763740,tt16763674         0            1  \n",
       "2550000                                   tt12670402         1            1  \n",
       "3490429                                   tt14961642         1            0  \n",
       "7871883                                    tt0051307         1            0  \n",
       "10508389                                   tt2968700         1            0  \n",
       "12017143                                   tt3657200         0            1  \n",
       "13614236                                   tt8184618         1            0  "
      ]
     },
     "execution_count": 56,
     "metadata": {},
     "output_type": "execute_result"
    }
   ],
   "source": [
    "nid = '721526'\n",
    "df1_filt[df1_filt['nconst'].str.endswith(nid)]"
   ]
  },
  {
   "cell_type": "code",
   "execution_count": null,
   "id": "57e14b92-22ce-4f88-8839-64876801be91",
   "metadata": {},
   "outputs": [],
   "source": []
  },
  {
   "cell_type": "code",
   "execution_count": null,
   "id": "f0735aac-c9d3-4635-8d17-f89fd826a7b5",
   "metadata": {},
   "outputs": [],
   "source": []
  },
  {
   "cell_type": "code",
   "execution_count": 59,
   "id": "dbc90a04-8d66-45af-9006-50233c309a2f",
   "metadata": {},
   "outputs": [],
   "source": [
    "df1_filt = df1_filt.drop(columns=['is_actor', 'is_director'])# 'primaryProfession:IGNORE', 'knownForTitles:IGNORE'])"
   ]
  },
  {
   "cell_type": "markdown",
   "id": "0184bfb1-fd4f-4551-b342-5cabcb7e9ad7",
   "metadata": {},
   "source": [
    "Remove people who don't have a birth year (imaginary characters?)"
   ]
  },
  {
   "cell_type": "code",
   "execution_count": 60,
   "id": "baa810ff-15eb-4945-9907-f4fe10e49e39",
   "metadata": {},
   "outputs": [],
   "source": [
    "df1_filt = df1_filt[df1_filt['birthYear'] != '\\\\N']"
   ]
  },
  {
   "cell_type": "code",
   "execution_count": 17,
   "id": "5244190b-0bb8-43ad-8b2e-9b89a9463584",
   "metadata": {},
   "outputs": [],
   "source": [
    "n_filt2 = len(df1_filt)"
   ]
  },
  {
   "cell_type": "code",
   "execution_count": 18,
   "id": "a385e216-59ea-4584-9bea-60e90206e241",
   "metadata": {},
   "outputs": [
    {
     "data": {
      "text/plain": [
       "434118"
      ]
     },
     "execution_count": 18,
     "metadata": {},
     "output_type": "execute_result"
    }
   ],
   "source": [
    "n_filt2"
   ]
  },
  {
   "cell_type": "code",
   "execution_count": 61,
   "id": "67a29a49-124e-4fbf-bbe8-f9371f90a956",
   "metadata": {},
   "outputs": [],
   "source": [
    "# replace '\\N' with nulls\n",
    "df1_filt['deathYear'] = np.where(df1_filt['deathYear'] == '\\\\N', np.nan, df1_filt['deathYear'])"
   ]
  },
  {
   "cell_type": "markdown",
   "id": "37030587-9ef4-40c2-a5c3-e1b93059a4a1",
   "metadata": {},
   "source": [
    "convert id's"
   ]
  },
  {
   "cell_type": "code",
   "execution_count": null,
   "id": "a075e49c-6a1e-4160-a2c0-7d884f30e59d",
   "metadata": {},
   "outputs": [],
   "source": [
    "name_id_regex = r'nm0*(\\d*)'\n",
    "\n",
    "df1_filt['nconst'] = df1_filt['nconst'].apply(lambda x: int(re.match(name_id_regex, x).group(1)))"
   ]
  },
  {
   "cell_type": "code",
   "execution_count": 63,
   "id": "71bd14e3-db96-4607-b8ff-59b156634c23",
   "metadata": {},
   "outputs": [
    {
     "data": {
      "text/html": [
       "<div>\n",
       "<style scoped>\n",
       "    .dataframe tbody tr th:only-of-type {\n",
       "        vertical-align: middle;\n",
       "    }\n",
       "\n",
       "    .dataframe tbody tr th {\n",
       "        vertical-align: top;\n",
       "    }\n",
       "\n",
       "    .dataframe thead th {\n",
       "        text-align: right;\n",
       "    }\n",
       "</style>\n",
       "<table border=\"1\" class=\"dataframe\">\n",
       "  <thead>\n",
       "    <tr style=\"text-align: right;\">\n",
       "      <th></th>\n",
       "      <th>nconst</th>\n",
       "      <th>primaryName</th>\n",
       "      <th>birthYear</th>\n",
       "      <th>deathYear</th>\n",
       "      <th>primaryProfession</th>\n",
       "      <th>knownForTitles</th>\n",
       "    </tr>\n",
       "  </thead>\n",
       "  <tbody>\n",
       "    <tr>\n",
       "      <th>679725</th>\n",
       "      <td>721526</td>\n",
       "      <td>Émile Reynaud</td>\n",
       "      <td>1844</td>\n",
       "      <td>1918</td>\n",
       "      <td>director,animation_department,producer</td>\n",
       "      <td>tt32169968,tt0000003,tt16763740,tt16763674</td>\n",
       "    </tr>\n",
       "  </tbody>\n",
       "</table>\n",
       "</div>"
      ],
      "text/plain": [
       "        nconst    primaryName birthYear deathYear  \\\n",
       "679725  721526  Émile Reynaud      1844      1918   \n",
       "\n",
       "                             primaryProfession  \\\n",
       "679725  director,animation_department,producer   \n",
       "\n",
       "                                    knownForTitles  \n",
       "679725  tt32169968,tt0000003,tt16763740,tt16763674  "
      ]
     },
     "execution_count": 63,
     "metadata": {},
     "output_type": "execute_result"
    }
   ],
   "source": [
    "nid = 721526\n",
    "df1_filt[df1_filt['nconst'] == nid]"
   ]
  },
  {
   "cell_type": "code",
   "execution_count": null,
   "id": "97ddb279-41fc-4546-81ca-3d21153a4ee7",
   "metadata": {},
   "outputs": [],
   "source": []
  },
  {
   "cell_type": "code",
   "execution_count": null,
   "id": "fbd9c041-c303-44e8-b997-59c36db6ede7",
   "metadata": {},
   "outputs": [],
   "source": []
  },
  {
   "cell_type": "code",
   "execution_count": 67,
   "id": "41435d96-1025-45d6-81a6-e4600568dadf",
   "metadata": {},
   "outputs": [],
   "source": [
    "df1_rename = df1_filt.rename(columns=rename_dict)"
   ]
  },
  {
   "cell_type": "code",
   "execution_count": 68,
   "id": "c63067fe-b993-4c99-a07c-8ba6f86f1ae4",
   "metadata": {},
   "outputs": [
    {
     "data": {
      "text/html": [
       "<div>\n",
       "<style scoped>\n",
       "    .dataframe tbody tr th:only-of-type {\n",
       "        vertical-align: middle;\n",
       "    }\n",
       "\n",
       "    .dataframe tbody tr th {\n",
       "        vertical-align: top;\n",
       "    }\n",
       "\n",
       "    .dataframe thead th {\n",
       "        text-align: right;\n",
       "    }\n",
       "</style>\n",
       "<table border=\"1\" class=\"dataframe\">\n",
       "  <thead>\n",
       "    <tr style=\"text-align: right;\">\n",
       "      <th></th>\n",
       "      <th>nameId:ID(Person)</th>\n",
       "      <th>primaryName</th>\n",
       "      <th>birthYear</th>\n",
       "      <th>deathYear</th>\n",
       "      <th>primaryProfession:IGNORE</th>\n",
       "      <th>knownForTitles:IGNORE</th>\n",
       "    </tr>\n",
       "  </thead>\n",
       "  <tbody>\n",
       "    <tr>\n",
       "      <th>12348208</th>\n",
       "      <td>8141084</td>\n",
       "      <td>Efe Can Yildiz</td>\n",
       "      <td>1990</td>\n",
       "      <td>NaN</td>\n",
       "      <td>assistant_director,director,writer</td>\n",
       "      <td>tt7081328,tt29765755,tt14587668,tt14587724</td>\n",
       "    </tr>\n",
       "    <tr>\n",
       "      <th>13745179</th>\n",
       "      <td>9874817</td>\n",
       "      <td>Simay Yaykir</td>\n",
       "      <td>1994</td>\n",
       "      <td>NaN</td>\n",
       "      <td>director,writer,producer</td>\n",
       "      <td>tt8488538</td>\n",
       "    </tr>\n",
       "    <tr>\n",
       "      <th>36499</th>\n",
       "      <td>38160</td>\n",
       "      <td>Jack Ary</td>\n",
       "      <td>1919</td>\n",
       "      <td>1974</td>\n",
       "      <td>actor,writer</td>\n",
       "      <td>tt0054834,tt0061676,tt0133572,tt0057967</td>\n",
       "    </tr>\n",
       "    <tr>\n",
       "      <th>8041331</th>\n",
       "      <td>2917761</td>\n",
       "      <td>Walter Beck</td>\n",
       "      <td>1888</td>\n",
       "      <td>1963</td>\n",
       "      <td>actor</td>\n",
       "      <td>tt1183719</td>\n",
       "    </tr>\n",
       "    <tr>\n",
       "      <th>9373780</th>\n",
       "      <td>4431318</td>\n",
       "      <td>Ryan J. Gilmer</td>\n",
       "      <td>1977</td>\n",
       "      <td>NaN</td>\n",
       "      <td>actor,producer,director</td>\n",
       "      <td>tt7127210,tt6561398,tt7510944,tt4441660</td>\n",
       "    </tr>\n",
       "    <tr>\n",
       "      <th>12720287</th>\n",
       "      <td>8614880</td>\n",
       "      <td>Yui Ooba</td>\n",
       "      <td>1994</td>\n",
       "      <td>NaN</td>\n",
       "      <td>actress,archive_footage</td>\n",
       "      <td>tt6461280,tt7975206,tt6287718,tt7028802</td>\n",
       "    </tr>\n",
       "    <tr>\n",
       "      <th>861928</th>\n",
       "      <td>916616</td>\n",
       "      <td>Jacques Weber</td>\n",
       "      <td>1949</td>\n",
       "      <td>NaN</td>\n",
       "      <td>actor,director,camera_department</td>\n",
       "      <td>tt0099334,tt0123808,tt0319041,tt0862998</td>\n",
       "    </tr>\n",
       "    <tr>\n",
       "      <th>109493</th>\n",
       "      <td>115047</td>\n",
       "      <td>Marjorie Browne</td>\n",
       "      <td>1910</td>\n",
       "      <td>1990</td>\n",
       "      <td>actress</td>\n",
       "      <td>tt0029115,tt0236413,tt0037799,tt0210458</td>\n",
       "    </tr>\n",
       "    <tr>\n",
       "      <th>646718</th>\n",
       "      <td>686257</td>\n",
       "      <td>David Anthony Pizzuto</td>\n",
       "      <td>1951</td>\n",
       "      <td>2012</td>\n",
       "      <td>actor,location_management,production_manager</td>\n",
       "      <td>tt0172156,tt0260831,tt0248667,tt0455566</td>\n",
       "    </tr>\n",
       "    <tr>\n",
       "      <th>458404</th>\n",
       "      <td>485313</td>\n",
       "      <td>Devinn Lane</td>\n",
       "      <td>1972</td>\n",
       "      <td>NaN</td>\n",
       "      <td>actress,director,producer</td>\n",
       "      <td>tt0410110,tt0474236,tt0282604,tt0349170</td>\n",
       "    </tr>\n",
       "  </tbody>\n",
       "</table>\n",
       "</div>"
      ],
      "text/plain": [
       "          nameId:ID(Person)            primaryName birthYear deathYear  \\\n",
       "12348208            8141084         Efe Can Yildiz      1990       NaN   \n",
       "13745179            9874817           Simay Yaykir      1994       NaN   \n",
       "36499                 38160               Jack Ary      1919      1974   \n",
       "8041331             2917761            Walter Beck      1888      1963   \n",
       "9373780             4431318         Ryan J. Gilmer      1977       NaN   \n",
       "12720287            8614880               Yui Ooba      1994       NaN   \n",
       "861928               916616          Jacques Weber      1949       NaN   \n",
       "109493               115047        Marjorie Browne      1910      1990   \n",
       "646718               686257  David Anthony Pizzuto      1951      2012   \n",
       "458404               485313            Devinn Lane      1972       NaN   \n",
       "\n",
       "                              primaryProfession:IGNORE  \\\n",
       "12348208            assistant_director,director,writer   \n",
       "13745179                      director,writer,producer   \n",
       "36499                                     actor,writer   \n",
       "8041331                                          actor   \n",
       "9373780                        actor,producer,director   \n",
       "12720287                       actress,archive_footage   \n",
       "861928                actor,director,camera_department   \n",
       "109493                                         actress   \n",
       "646718    actor,location_management,production_manager   \n",
       "458404                       actress,director,producer   \n",
       "\n",
       "                               knownForTitles:IGNORE  \n",
       "12348208  tt7081328,tt29765755,tt14587668,tt14587724  \n",
       "13745179                                   tt8488538  \n",
       "36499        tt0054834,tt0061676,tt0133572,tt0057967  \n",
       "8041331                                    tt1183719  \n",
       "9373780      tt7127210,tt6561398,tt7510944,tt4441660  \n",
       "12720287     tt6461280,tt7975206,tt6287718,tt7028802  \n",
       "861928       tt0099334,tt0123808,tt0319041,tt0862998  \n",
       "109493       tt0029115,tt0236413,tt0037799,tt0210458  \n",
       "646718       tt0172156,tt0260831,tt0248667,tt0455566  \n",
       "458404       tt0410110,tt0474236,tt0282604,tt0349170  "
      ]
     },
     "execution_count": 68,
     "metadata": {},
     "output_type": "execute_result"
    }
   ],
   "source": [
    "df1_rename.sample(10)"
   ]
  },
  {
   "cell_type": "code",
   "execution_count": 70,
   "id": "2b61922b-f9e6-4e4e-ba91-ddb0dcccdd32",
   "metadata": {},
   "outputs": [
    {
     "data": {
      "text/html": [
       "<div>\n",
       "<style scoped>\n",
       "    .dataframe tbody tr th:only-of-type {\n",
       "        vertical-align: middle;\n",
       "    }\n",
       "\n",
       "    .dataframe tbody tr th {\n",
       "        vertical-align: top;\n",
       "    }\n",
       "\n",
       "    .dataframe thead th {\n",
       "        text-align: right;\n",
       "    }\n",
       "</style>\n",
       "<table border=\"1\" class=\"dataframe\">\n",
       "  <thead>\n",
       "    <tr style=\"text-align: right;\">\n",
       "      <th></th>\n",
       "      <th>nameId:ID(Person)</th>\n",
       "      <th>primaryName</th>\n",
       "      <th>birthYear</th>\n",
       "      <th>deathYear</th>\n",
       "      <th>primaryProfession:IGNORE</th>\n",
       "      <th>knownForTitles:IGNORE</th>\n",
       "    </tr>\n",
       "  </thead>\n",
       "  <tbody>\n",
       "    <tr>\n",
       "      <th>679725</th>\n",
       "      <td>721526</td>\n",
       "      <td>Émile Reynaud</td>\n",
       "      <td>1844</td>\n",
       "      <td>1918</td>\n",
       "      <td>director,animation_department,producer</td>\n",
       "      <td>tt32169968,tt0000003,tt16763740,tt16763674</td>\n",
       "    </tr>\n",
       "  </tbody>\n",
       "</table>\n",
       "</div>"
      ],
      "text/plain": [
       "        nameId:ID(Person)    primaryName birthYear deathYear  \\\n",
       "679725             721526  Émile Reynaud      1844      1918   \n",
       "\n",
       "                      primaryProfession:IGNORE  \\\n",
       "679725  director,animation_department,producer   \n",
       "\n",
       "                             knownForTitles:IGNORE  \n",
       "679725  tt32169968,tt0000003,tt16763740,tt16763674  "
      ]
     },
     "execution_count": 70,
     "metadata": {},
     "output_type": "execute_result"
    }
   ],
   "source": [
    "nid = 721526\n",
    "df1_rename[df1_rename['nameId:ID(Person)'] == nid]"
   ]
  },
  {
   "cell_type": "code",
   "execution_count": 71,
   "id": "3c7eb218-9940-4ae3-95b7-0a539dbf1fed",
   "metadata": {},
   "outputs": [
    {
     "data": {
      "text/html": [
       "<div>\n",
       "<style scoped>\n",
       "    .dataframe tbody tr th:only-of-type {\n",
       "        vertical-align: middle;\n",
       "    }\n",
       "\n",
       "    .dataframe tbody tr th {\n",
       "        vertical-align: top;\n",
       "    }\n",
       "\n",
       "    .dataframe thead th {\n",
       "        text-align: right;\n",
       "    }\n",
       "</style>\n",
       "<table border=\"1\" class=\"dataframe\">\n",
       "  <thead>\n",
       "    <tr style=\"text-align: right;\">\n",
       "      <th></th>\n",
       "      <th>nameId:ID(Person)</th>\n",
       "      <th>primaryName</th>\n",
       "      <th>birthYear</th>\n",
       "      <th>deathYear</th>\n",
       "      <th>primaryProfession:IGNORE</th>\n",
       "      <th>knownForTitles:IGNORE</th>\n",
       "    </tr>\n",
       "  </thead>\n",
       "  <tbody>\n",
       "    <tr>\n",
       "      <th>588154</th>\n",
       "      <td>623866</td>\n",
       "      <td>Clara Nebelong</td>\n",
       "      <td>1881</td>\n",
       "      <td>1943</td>\n",
       "      <td>actress</td>\n",
       "      <td>tt3125484,tt0188039,tt2404004,tt2404012</td>\n",
       "    </tr>\n",
       "  </tbody>\n",
       "</table>\n",
       "</div>"
      ],
      "text/plain": [
       "        nameId:ID(Person)     primaryName birthYear deathYear  \\\n",
       "588154             623866  Clara Nebelong      1881      1943   \n",
       "\n",
       "       primaryProfession:IGNORE                    knownForTitles:IGNORE  \n",
       "588154                  actress  tt3125484,tt0188039,tt2404004,tt2404012  "
      ]
     },
     "execution_count": 71,
     "metadata": {},
     "output_type": "execute_result"
    }
   ],
   "source": [
    "nid = 623866\n",
    "df1_rename[df1_rename['nameId:ID(Person)'] == nid]"
   ]
  },
  {
   "cell_type": "code",
   "execution_count": 29,
   "id": "08e73c7c-5e88-4f32-8b0c-efb592361d60",
   "metadata": {},
   "outputs": [],
   "source": [
    "df1_rename.to_csv(os.path.join(DATA_DIR, \"filt.name.basics.tsv\"), sep='\\t', header=True, index=False)"
   ]
  },
  {
   "cell_type": "code",
   "execution_count": 30,
   "id": "a8b10c7a-92a9-45bb-bf4d-dd1897b85048",
   "metadata": {},
   "outputs": [],
   "source": [
    "del df1, df1_filt, df1_rename"
   ]
  },
  {
   "cell_type": "markdown",
   "id": "77b4ee45-8e23-4567-a1a1-df8c8a7dd7f9",
   "metadata": {},
   "source": [
    "# title basics"
   ]
  },
  {
   "cell_type": "code",
   "execution_count": 31,
   "id": "2c00e70c-515f-4994-a8c8-3ebb4a12efdb",
   "metadata": {},
   "outputs": [
    {
     "name": "stderr",
     "output_type": "stream",
     "text": [
      "/var/folders/mp/z98sg8jn1q3bx499xmgkf_040000gn/T/ipykernel_22095/2693477088.py:2: DtypeWarning: Columns (4) have mixed types. Specify dtype option on import or set low_memory=False.\n",
      "  df = pd.read_csv(file_path, sep='\\t')\n"
     ]
    }
   ],
   "source": [
    "file_path = os.path.join(DATA_DIR, \"title.basics.tsv\")\n",
    "df = pd.read_csv(file_path, sep='\\t')"
   ]
  },
  {
   "cell_type": "code",
   "execution_count": 32,
   "id": "45318997-fa25-4c9b-9532-725cd993bdbd",
   "metadata": {},
   "outputs": [
    {
     "data": {
      "text/html": [
       "<div>\n",
       "<style scoped>\n",
       "    .dataframe tbody tr th:only-of-type {\n",
       "        vertical-align: middle;\n",
       "    }\n",
       "\n",
       "    .dataframe tbody tr th {\n",
       "        vertical-align: top;\n",
       "    }\n",
       "\n",
       "    .dataframe thead th {\n",
       "        text-align: right;\n",
       "    }\n",
       "</style>\n",
       "<table border=\"1\" class=\"dataframe\">\n",
       "  <thead>\n",
       "    <tr style=\"text-align: right;\">\n",
       "      <th></th>\n",
       "      <th>tconst</th>\n",
       "      <th>titleType</th>\n",
       "      <th>primaryTitle</th>\n",
       "      <th>originalTitle</th>\n",
       "      <th>isAdult</th>\n",
       "      <th>startYear</th>\n",
       "      <th>endYear</th>\n",
       "      <th>runtimeMinutes</th>\n",
       "      <th>genres</th>\n",
       "    </tr>\n",
       "  </thead>\n",
       "  <tbody>\n",
       "    <tr>\n",
       "      <th>0</th>\n",
       "      <td>tt0000001</td>\n",
       "      <td>short</td>\n",
       "      <td>Carmencita</td>\n",
       "      <td>Carmencita</td>\n",
       "      <td>0</td>\n",
       "      <td>1894</td>\n",
       "      <td>\\N</td>\n",
       "      <td>1</td>\n",
       "      <td>Documentary,Short</td>\n",
       "    </tr>\n",
       "    <tr>\n",
       "      <th>1</th>\n",
       "      <td>tt0000002</td>\n",
       "      <td>short</td>\n",
       "      <td>Le clown et ses chiens</td>\n",
       "      <td>Le clown et ses chiens</td>\n",
       "      <td>0</td>\n",
       "      <td>1892</td>\n",
       "      <td>\\N</td>\n",
       "      <td>5</td>\n",
       "      <td>Animation,Short</td>\n",
       "    </tr>\n",
       "    <tr>\n",
       "      <th>2</th>\n",
       "      <td>tt0000003</td>\n",
       "      <td>short</td>\n",
       "      <td>Pauvre Pierrot</td>\n",
       "      <td>Pauvre Pierrot</td>\n",
       "      <td>0</td>\n",
       "      <td>1892</td>\n",
       "      <td>\\N</td>\n",
       "      <td>5</td>\n",
       "      <td>Animation,Comedy,Romance</td>\n",
       "    </tr>\n",
       "    <tr>\n",
       "      <th>3</th>\n",
       "      <td>tt0000004</td>\n",
       "      <td>short</td>\n",
       "      <td>Un bon bock</td>\n",
       "      <td>Un bon bock</td>\n",
       "      <td>0</td>\n",
       "      <td>1892</td>\n",
       "      <td>\\N</td>\n",
       "      <td>12</td>\n",
       "      <td>Animation,Short</td>\n",
       "    </tr>\n",
       "    <tr>\n",
       "      <th>4</th>\n",
       "      <td>tt0000005</td>\n",
       "      <td>short</td>\n",
       "      <td>Blacksmith Scene</td>\n",
       "      <td>Blacksmith Scene</td>\n",
       "      <td>0</td>\n",
       "      <td>1893</td>\n",
       "      <td>\\N</td>\n",
       "      <td>1</td>\n",
       "      <td>Comedy,Short</td>\n",
       "    </tr>\n",
       "  </tbody>\n",
       "</table>\n",
       "</div>"
      ],
      "text/plain": [
       "      tconst titleType            primaryTitle           originalTitle  \\\n",
       "0  tt0000001     short              Carmencita              Carmencita   \n",
       "1  tt0000002     short  Le clown et ses chiens  Le clown et ses chiens   \n",
       "2  tt0000003     short          Pauvre Pierrot          Pauvre Pierrot   \n",
       "3  tt0000004     short             Un bon bock             Un bon bock   \n",
       "4  tt0000005     short        Blacksmith Scene        Blacksmith Scene   \n",
       "\n",
       "  isAdult startYear endYear runtimeMinutes                    genres  \n",
       "0       0      1894      \\N              1         Documentary,Short  \n",
       "1       0      1892      \\N              5           Animation,Short  \n",
       "2       0      1892      \\N              5  Animation,Comedy,Romance  \n",
       "3       0      1892      \\N             12           Animation,Short  \n",
       "4       0      1893      \\N              1              Comedy,Short  "
      ]
     },
     "execution_count": 32,
     "metadata": {},
     "output_type": "execute_result"
    }
   ],
   "source": [
    "df.head()"
   ]
  },
  {
   "cell_type": "code",
   "execution_count": 33,
   "id": "48011ea9-0d98-440e-8d3c-31ba9b6d32b0",
   "metadata": {},
   "outputs": [
    {
     "data": {
      "text/plain": [
       "Index(['tconst', 'titleType', 'primaryTitle', 'originalTitle', 'isAdult',\n",
       "       'startYear', 'endYear', 'runtimeMinutes', 'genres'],\n",
       "      dtype='object')"
      ]
     },
     "execution_count": 33,
     "metadata": {},
     "output_type": "execute_result"
    }
   ],
   "source": [
    "df.columns"
   ]
  },
  {
   "cell_type": "code",
   "execution_count": 34,
   "id": "ea3767d8-b450-437d-aa13-bca1aa0e2c68",
   "metadata": {},
   "outputs": [],
   "source": [
    "# ignore_cols = ['primaryProfession', 'knownForTitles']\n",
    "\n",
    "rename_dict = {\n",
    "    'tconst': 'titleId:ID(Movie)'\n",
    "}\n",
    "\n",
    "# for col in ignore_cols:\n",
    "#     rename_dict[col] = f'{col}:IGNORE'\n",
    "\n",
    "# rename_dict"
   ]
  },
  {
   "cell_type": "code",
   "execution_count": null,
   "id": "6c5679e2-446e-4734-8b8e-f14d3e5f17da",
   "metadata": {},
   "outputs": [],
   "source": []
  },
  {
   "cell_type": "code",
   "execution_count": 35,
   "id": "839187e0-57ed-4d31-9454-b7fa09b5891e",
   "metadata": {},
   "outputs": [],
   "source": [
    "title_id_regex = r'tt0*(\\d*)'\n",
    "df['tconst'] = df['tconst'].apply(lambda x: int(re.match(title_id_regex, x).group(1)))"
   ]
  },
  {
   "cell_type": "code",
   "execution_count": 36,
   "id": "a3e70c80-ca31-4246-b537-4b93fb9c3d3a",
   "metadata": {},
   "outputs": [],
   "source": [
    "n = len(df)"
   ]
  },
  {
   "cell_type": "code",
   "execution_count": 38,
   "id": "1fa1a1fe-3307-4e6a-afbc-3e5c94473b4c",
   "metadata": {},
   "outputs": [],
   "source": [
    "df_filt = df[df['isAdult'] == 0]"
   ]
  },
  {
   "cell_type": "code",
   "execution_count": 39,
   "id": "9f7e00cb-206e-408c-8134-a227282c8f34",
   "metadata": {},
   "outputs": [
    {
     "data": {
      "text/plain": [
       "(10706453, 0.962146450179395)"
      ]
     },
     "execution_count": 39,
     "metadata": {},
     "output_type": "execute_result"
    }
   ],
   "source": [
    "n_filt = len(df_filt)\n",
    "n_filt, n_filt/n"
   ]
  },
  {
   "cell_type": "code",
   "execution_count": 40,
   "id": "41fe01ef-6f34-4409-a37b-e88ea3a13e4f",
   "metadata": {},
   "outputs": [
    {
     "data": {
      "text/plain": [
       "681857"
      ]
     },
     "execution_count": 40,
     "metadata": {},
     "output_type": "execute_result"
    }
   ],
   "source": [
    "df_movies = df_filt[df_filt['titleType'] == 'movie']\n",
    "len(df_movies)"
   ]
  },
  {
   "cell_type": "code",
   "execution_count": 41,
   "id": "195bbc98-d56c-450b-9deb-b314a1ed1af2",
   "metadata": {},
   "outputs": [
    {
     "name": "stderr",
     "output_type": "stream",
     "text": [
      "/var/folders/mp/z98sg8jn1q3bx499xmgkf_040000gn/T/ipykernel_22095/3649384730.py:2: SettingWithCopyWarning: \n",
      "A value is trying to be set on a copy of a slice from a DataFrame.\n",
      "Try using .loc[row_indexer,col_indexer] = value instead\n",
      "\n",
      "See the caveats in the documentation: https://pandas.pydata.org/pandas-docs/stable/user_guide/indexing.html#returning-a-view-versus-a-copy\n",
      "  df_movies['startYear'] = np.where(df_movies['startYear'] == '\\\\N', np.nan, df_movies['startYear'])\n",
      "/var/folders/mp/z98sg8jn1q3bx499xmgkf_040000gn/T/ipykernel_22095/3649384730.py:3: SettingWithCopyWarning: \n",
      "A value is trying to be set on a copy of a slice from a DataFrame.\n",
      "Try using .loc[row_indexer,col_indexer] = value instead\n",
      "\n",
      "See the caveats in the documentation: https://pandas.pydata.org/pandas-docs/stable/user_guide/indexing.html#returning-a-view-versus-a-copy\n",
      "  df_movies['runtimeMinutes'] = np.where(df_movies['runtimeMinutes'] == '\\\\N', np.nan, df_movies['runtimeMinutes'])\n"
     ]
    }
   ],
   "source": [
    "# replace '\\N' with nulls\n",
    "df_movies['startYear'] = np.where(df_movies['startYear'] == '\\\\N', np.nan, df_movies['startYear'])\n",
    "df_movies['runtimeMinutes'] = np.where(df_movies['runtimeMinutes'] == '\\\\N', np.nan, df_movies['runtimeMinutes'])"
   ]
  },
  {
   "cell_type": "code",
   "execution_count": 42,
   "id": "033f4f33-7e05-409a-8e2f-0760a82a086d",
   "metadata": {},
   "outputs": [
    {
     "data": {
      "text/html": [
       "<div>\n",
       "<style scoped>\n",
       "    .dataframe tbody tr th:only-of-type {\n",
       "        vertical-align: middle;\n",
       "    }\n",
       "\n",
       "    .dataframe tbody tr th {\n",
       "        vertical-align: top;\n",
       "    }\n",
       "\n",
       "    .dataframe thead th {\n",
       "        text-align: right;\n",
       "    }\n",
       "</style>\n",
       "<table border=\"1\" class=\"dataframe\">\n",
       "  <thead>\n",
       "    <tr style=\"text-align: right;\">\n",
       "      <th></th>\n",
       "      <th>tconst</th>\n",
       "      <th>titleType</th>\n",
       "      <th>primaryTitle</th>\n",
       "      <th>originalTitle</th>\n",
       "      <th>isAdult</th>\n",
       "      <th>startYear</th>\n",
       "      <th>endYear</th>\n",
       "      <th>runtimeMinutes</th>\n",
       "      <th>genres</th>\n",
       "    </tr>\n",
       "  </thead>\n",
       "  <tbody>\n",
       "    <tr>\n",
       "      <th>5476821</th>\n",
       "      <td>21378074</td>\n",
       "      <td>movie</td>\n",
       "      <td>Mandal ke Bol</td>\n",
       "      <td>Mandal ke Bol</td>\n",
       "      <td>0</td>\n",
       "      <td>2020</td>\n",
       "      <td>\\N</td>\n",
       "      <td>NaN</td>\n",
       "      <td>\\N</td>\n",
       "    </tr>\n",
       "    <tr>\n",
       "      <th>9068539</th>\n",
       "      <td>5372998</td>\n",
       "      <td>movie</td>\n",
       "      <td>Mezhdu maskite</td>\n",
       "      <td>Mezhdu maskite</td>\n",
       "      <td>0</td>\n",
       "      <td>2009</td>\n",
       "      <td>\\N</td>\n",
       "      <td>54</td>\n",
       "      <td>Documentary</td>\n",
       "    </tr>\n",
       "    <tr>\n",
       "      <th>7868710</th>\n",
       "      <td>32645959</td>\n",
       "      <td>movie</td>\n",
       "      <td>Mori: The Christmas Assassin</td>\n",
       "      <td>Mori: The Christmas Assassin</td>\n",
       "      <td>0</td>\n",
       "      <td>NaN</td>\n",
       "      <td>\\N</td>\n",
       "      <td>NaN</td>\n",
       "      <td>Action,Comedy,Crime</td>\n",
       "    </tr>\n",
       "    <tr>\n",
       "      <th>383863</th>\n",
       "      <td>400695</td>\n",
       "      <td>movie</td>\n",
       "      <td>Not Simply a Wedding Banquet</td>\n",
       "      <td>Not Simply a Wedding Banquet</td>\n",
       "      <td>0</td>\n",
       "      <td>1997</td>\n",
       "      <td>\\N</td>\n",
       "      <td>50</td>\n",
       "      <td>Documentary</td>\n",
       "    </tr>\n",
       "    <tr>\n",
       "      <th>451498</th>\n",
       "      <td>470191</td>\n",
       "      <td>movie</td>\n",
       "      <td>The True Story of Ah Q</td>\n",
       "      <td>Ah Q zheng zhuan</td>\n",
       "      <td>0</td>\n",
       "      <td>1958</td>\n",
       "      <td>\\N</td>\n",
       "      <td>109</td>\n",
       "      <td>Drama</td>\n",
       "    </tr>\n",
       "    <tr>\n",
       "      <th>384033</th>\n",
       "      <td>400870</td>\n",
       "      <td>movie</td>\n",
       "      <td>Le séga à l'île Maurice</td>\n",
       "      <td>Le séga à l'île Maurice</td>\n",
       "      <td>0</td>\n",
       "      <td>1990</td>\n",
       "      <td>\\N</td>\n",
       "      <td>NaN</td>\n",
       "      <td>Documentary</td>\n",
       "    </tr>\n",
       "    <tr>\n",
       "      <th>243761</th>\n",
       "      <td>254616</td>\n",
       "      <td>movie</td>\n",
       "      <td>O Olho Mágico do Amor</td>\n",
       "      <td>O Olho Mágico do Amor</td>\n",
       "      <td>0</td>\n",
       "      <td>1982</td>\n",
       "      <td>\\N</td>\n",
       "      <td>85</td>\n",
       "      <td>Comedy,Drama</td>\n",
       "    </tr>\n",
       "    <tr>\n",
       "      <th>10771350</th>\n",
       "      <td>9147564</td>\n",
       "      <td>movie</td>\n",
       "      <td>Hidden Attack of the Dead</td>\n",
       "      <td>Kan-yû</td>\n",
       "      <td>0</td>\n",
       "      <td>2018</td>\n",
       "      <td>\\N</td>\n",
       "      <td>74</td>\n",
       "      <td>Horror</td>\n",
       "    </tr>\n",
       "    <tr>\n",
       "      <th>451138</th>\n",
       "      <td>469823</td>\n",
       "      <td>movie</td>\n",
       "      <td>Senza paura</td>\n",
       "      <td>Senza paura</td>\n",
       "      <td>0</td>\n",
       "      <td>2000</td>\n",
       "      <td>\\N</td>\n",
       "      <td>84</td>\n",
       "      <td>Action</td>\n",
       "    </tr>\n",
       "    <tr>\n",
       "      <th>9447405</th>\n",
       "      <td>6229644</td>\n",
       "      <td>movie</td>\n",
       "      <td>The Nation</td>\n",
       "      <td>The Nation</td>\n",
       "      <td>0</td>\n",
       "      <td>2009</td>\n",
       "      <td>\\N</td>\n",
       "      <td>NaN</td>\n",
       "      <td>Drama</td>\n",
       "    </tr>\n",
       "  </tbody>\n",
       "</table>\n",
       "</div>"
      ],
      "text/plain": [
       "            tconst titleType                  primaryTitle  \\\n",
       "5476821   21378074     movie                 Mandal ke Bol   \n",
       "9068539    5372998     movie                Mezhdu maskite   \n",
       "7868710   32645959     movie  Mori: The Christmas Assassin   \n",
       "383863      400695     movie  Not Simply a Wedding Banquet   \n",
       "451498      470191     movie        The True Story of Ah Q   \n",
       "384033      400870     movie       Le séga à l'île Maurice   \n",
       "243761      254616     movie         O Olho Mágico do Amor   \n",
       "10771350   9147564     movie     Hidden Attack of the Dead   \n",
       "451138      469823     movie                   Senza paura   \n",
       "9447405    6229644     movie                    The Nation   \n",
       "\n",
       "                         originalTitle isAdult startYear endYear  \\\n",
       "5476821                  Mandal ke Bol       0      2020      \\N   \n",
       "9068539                 Mezhdu maskite       0      2009      \\N   \n",
       "7868710   Mori: The Christmas Assassin       0       NaN      \\N   \n",
       "383863    Not Simply a Wedding Banquet       0      1997      \\N   \n",
       "451498                Ah Q zheng zhuan       0      1958      \\N   \n",
       "384033         Le séga à l'île Maurice       0      1990      \\N   \n",
       "243761           O Olho Mágico do Amor       0      1982      \\N   \n",
       "10771350                        Kan-yû       0      2018      \\N   \n",
       "451138                     Senza paura       0      2000      \\N   \n",
       "9447405                     The Nation       0      2009      \\N   \n",
       "\n",
       "         runtimeMinutes               genres  \n",
       "5476821             NaN                   \\N  \n",
       "9068539              54          Documentary  \n",
       "7868710             NaN  Action,Comedy,Crime  \n",
       "383863               50          Documentary  \n",
       "451498              109                Drama  \n",
       "384033              NaN          Documentary  \n",
       "243761               85         Comedy,Drama  \n",
       "10771350             74               Horror  \n",
       "451138               84               Action  \n",
       "9447405             NaN                Drama  "
      ]
     },
     "execution_count": 42,
     "metadata": {},
     "output_type": "execute_result"
    }
   ],
   "source": [
    "df_movies.sample(10)"
   ]
  },
  {
   "cell_type": "code",
   "execution_count": 45,
   "id": "f6a6467b-5d03-4426-b3fb-aee73ade2fc7",
   "metadata": {},
   "outputs": [
    {
     "data": {
      "text/plain": [
       "{'tconst': 'titleId:ID(Movie)'}"
      ]
     },
     "execution_count": 45,
     "metadata": {},
     "output_type": "execute_result"
    }
   ],
   "source": [
    "rename_dict"
   ]
  },
  {
   "cell_type": "code",
   "execution_count": 46,
   "id": "c08cf304-bab7-44b8-be60-1fa4a6d298f6",
   "metadata": {},
   "outputs": [],
   "source": [
    "rename_dict['primaryTitle'] = 'title'"
   ]
  },
  {
   "cell_type": "code",
   "execution_count": 47,
   "id": "7a1c4348-6d7a-4192-9ac3-5bbe9680bc5c",
   "metadata": {},
   "outputs": [],
   "source": [
    "(df_movies.drop(columns=['isAdult', 'originalTitle', 'endYear', 'titleType'])\n",
    "     .rename(columns=rename_dict)\n",
    "    .to_csv(os.path.join(DATA_DIR, \"filt.titles.basic.tsv\"), sep=\"\\t\", header=True, index=False)\n",
    ")"
   ]
  },
  {
   "cell_type": "markdown",
   "id": "099b7b1e-96aa-4435-92c3-73d93e7cbab7",
   "metadata": {},
   "source": [
    "# check principal (relationship?)"
   ]
  },
  {
   "cell_type": "code",
   "execution_count": 3,
   "id": "c5fb660f-d0c3-473b-bd69-e7a7962915f2",
   "metadata": {},
   "outputs": [],
   "source": [
    "file_path = os.path.join(DATA_DIR, \"filt.title.principals.tsv\")\n",
    "df = pd.read_csv(file_path, sep='\\t', nrows=10000)"
   ]
  },
  {
   "cell_type": "code",
   "execution_count": 4,
   "id": "0abbb83d-0c00-4619-bc43-af1685b50819",
   "metadata": {},
   "outputs": [
    {
     "data": {
      "text/html": [
       "<div>\n",
       "<style scoped>\n",
       "    .dataframe tbody tr th:only-of-type {\n",
       "        vertical-align: middle;\n",
       "    }\n",
       "\n",
       "    .dataframe tbody tr th {\n",
       "        vertical-align: top;\n",
       "    }\n",
       "\n",
       "    .dataframe thead th {\n",
       "        text-align: right;\n",
       "    }\n",
       "</style>\n",
       "<table border=\"1\" class=\"dataframe\">\n",
       "  <thead>\n",
       "    <tr style=\"text-align: right;\">\n",
       "      <th></th>\n",
       "      <th>:START_ID(Movie)</th>\n",
       "      <th>ordering:IGNORE</th>\n",
       "      <th>:END_ID(Person)</th>\n",
       "      <th>category:TYPE</th>\n",
       "      <th>job:IGNORE</th>\n",
       "      <th>characters:IGNORE</th>\n",
       "    </tr>\n",
       "  </thead>\n",
       "  <tbody>\n",
       "    <tr>\n",
       "      <th>0</th>\n",
       "      <td>1</td>\n",
       "      <td>2</td>\n",
       "      <td>5690</td>\n",
       "      <td>director</td>\n",
       "      <td>NaN</td>\n",
       "      <td>NaN</td>\n",
       "    </tr>\n",
       "    <tr>\n",
       "      <th>1</th>\n",
       "      <td>2</td>\n",
       "      <td>1</td>\n",
       "      <td>721526</td>\n",
       "      <td>director</td>\n",
       "      <td>NaN</td>\n",
       "      <td>NaN</td>\n",
       "    </tr>\n",
       "    <tr>\n",
       "      <th>2</th>\n",
       "      <td>3</td>\n",
       "      <td>1</td>\n",
       "      <td>721526</td>\n",
       "      <td>director</td>\n",
       "      <td>NaN</td>\n",
       "      <td>NaN</td>\n",
       "    </tr>\n",
       "    <tr>\n",
       "      <th>3</th>\n",
       "      <td>4</td>\n",
       "      <td>1</td>\n",
       "      <td>721526</td>\n",
       "      <td>director</td>\n",
       "      <td>NaN</td>\n",
       "      <td>NaN</td>\n",
       "    </tr>\n",
       "    <tr>\n",
       "      <th>4</th>\n",
       "      <td>5</td>\n",
       "      <td>1</td>\n",
       "      <td>443482</td>\n",
       "      <td>actor</td>\n",
       "      <td>NaN</td>\n",
       "      <td>[\"Blacksmith\"]</td>\n",
       "    </tr>\n",
       "  </tbody>\n",
       "</table>\n",
       "</div>"
      ],
      "text/plain": [
       "   :START_ID(Movie)  ordering:IGNORE  :END_ID(Person) category:TYPE  \\\n",
       "0                 1                2             5690      director   \n",
       "1                 2                1           721526      director   \n",
       "2                 3                1           721526      director   \n",
       "3                 4                1           721526      director   \n",
       "4                 5                1           443482         actor   \n",
       "\n",
       "  job:IGNORE characters:IGNORE  \n",
       "0        NaN               NaN  \n",
       "1        NaN               NaN  \n",
       "2        NaN               NaN  \n",
       "3        NaN               NaN  \n",
       "4        NaN    [\"Blacksmith\"]  "
      ]
     },
     "execution_count": 4,
     "metadata": {},
     "output_type": "execute_result"
    }
   ],
   "source": [
    "df.head()"
   ]
  },
  {
   "cell_type": "code",
   "execution_count": 5,
   "id": "74f1469e-5b64-44b2-8fb8-c5dcd1ede310",
   "metadata": {},
   "outputs": [
    {
     "name": "stdout",
     "output_type": "stream",
     "text": [
      "<class 'pandas.core.frame.DataFrame'>\n",
      "RangeIndex: 10000 entries, 0 to 9999\n",
      "Data columns (total 6 columns):\n",
      " #   Column             Non-Null Count  Dtype \n",
      "---  ------             --------------  ----- \n",
      " 0   :START_ID(Movie)   10000 non-null  int64 \n",
      " 1   ordering:IGNORE    10000 non-null  int64 \n",
      " 2   :END_ID(Person)    10000 non-null  int64 \n",
      " 3   category:TYPE      10000 non-null  object\n",
      " 4   job:IGNORE         123 non-null    object\n",
      " 5   characters:IGNORE  6028 non-null   object\n",
      "dtypes: int64(3), object(3)\n",
      "memory usage: 468.9+ KB\n"
     ]
    }
   ],
   "source": [
    "df.info()"
   ]
  },
  {
   "cell_type": "code",
   "execution_count": null,
   "id": "8f2631a3-56a3-4b6e-995f-4f7beb04274c",
   "metadata": {},
   "outputs": [],
   "source": []
  }
 ],
 "metadata": {
  "kernelspec": {
   "display_name": "general-eda",
   "language": "python",
   "name": "general-eda"
  },
  "language_info": {
   "codemirror_mode": {
    "name": "ipython",
    "version": 3
   },
   "file_extension": ".py",
   "mimetype": "text/x-python",
   "name": "python",
   "nbconvert_exporter": "python",
   "pygments_lexer": "ipython3",
   "version": "3.11.5"
  }
 },
 "nbformat": 4,
 "nbformat_minor": 5
}
