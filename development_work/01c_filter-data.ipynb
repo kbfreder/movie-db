{
 "cells": [
  {
   "cell_type": "markdown",
   "id": "b78d4182-2b43-4329-9f50-e939a8cfec63",
   "metadata": {},
   "source": [
    "Don't modify ID's"
   ]
  },
  {
   "cell_type": "code",
   "execution_count": 1,
   "id": "e6537960-57d7-4a71-8f90-bd2c7927a659",
   "metadata": {},
   "outputs": [],
   "source": [
    "import os\n",
    "import pandas as pd\n",
    "import numpy as np\n",
    "import re"
   ]
  },
  {
   "cell_type": "code",
   "execution_count": 2,
   "id": "21e4b3c1-0653-43e5-acfc-eb3ef0a32976",
   "metadata": {},
   "outputs": [],
   "source": [
    "DATA_DIR = \"/Users/kendra/Data/IMDB/2024-10-05\""
   ]
  },
  {
   "cell_type": "markdown",
   "id": "d49388c3-f289-4c93-8e1a-e129af46103c",
   "metadata": {},
   "source": [
    "## name"
   ]
  },
  {
   "cell_type": "code",
   "execution_count": 3,
   "id": "17d57298-5f6e-44a6-9840-32fb63c90090",
   "metadata": {},
   "outputs": [],
   "source": [
    "file_path = os.path.join(DATA_DIR, \"name.basics.tsv\")"
   ]
  },
  {
   "cell_type": "code",
   "execution_count": 4,
   "id": "ffdc1706-e602-4e69-8c81-1c0b12ba4eca",
   "metadata": {},
   "outputs": [],
   "source": [
    "df1 = pd.read_csv(file_path, sep='\\t')"
   ]
  },
  {
   "cell_type": "code",
   "execution_count": 5,
   "id": "aa44af32-0b8c-46bb-92fa-6329dd6f4425",
   "metadata": {},
   "outputs": [
    {
     "data": {
      "text/html": [
       "<div>\n",
       "<style scoped>\n",
       "    .dataframe tbody tr th:only-of-type {\n",
       "        vertical-align: middle;\n",
       "    }\n",
       "\n",
       "    .dataframe tbody tr th {\n",
       "        vertical-align: top;\n",
       "    }\n",
       "\n",
       "    .dataframe thead th {\n",
       "        text-align: right;\n",
       "    }\n",
       "</style>\n",
       "<table border=\"1\" class=\"dataframe\">\n",
       "  <thead>\n",
       "    <tr style=\"text-align: right;\">\n",
       "      <th></th>\n",
       "      <th>nconst</th>\n",
       "      <th>primaryName</th>\n",
       "      <th>birthYear</th>\n",
       "      <th>deathYear</th>\n",
       "      <th>primaryProfession</th>\n",
       "      <th>knownForTitles</th>\n",
       "    </tr>\n",
       "  </thead>\n",
       "  <tbody>\n",
       "    <tr>\n",
       "      <th>0</th>\n",
       "      <td>nm0000001</td>\n",
       "      <td>Fred Astaire</td>\n",
       "      <td>1899</td>\n",
       "      <td>1987</td>\n",
       "      <td>actor,miscellaneous,producer</td>\n",
       "      <td>tt0072308,tt0050419,tt0053137,tt0027125</td>\n",
       "    </tr>\n",
       "    <tr>\n",
       "      <th>1</th>\n",
       "      <td>nm0000002</td>\n",
       "      <td>Lauren Bacall</td>\n",
       "      <td>1924</td>\n",
       "      <td>2014</td>\n",
       "      <td>actress,soundtrack,archive_footage</td>\n",
       "      <td>tt0037382,tt0075213,tt0117057,tt0038355</td>\n",
       "    </tr>\n",
       "    <tr>\n",
       "      <th>2</th>\n",
       "      <td>nm0000003</td>\n",
       "      <td>Brigitte Bardot</td>\n",
       "      <td>1934</td>\n",
       "      <td>\\N</td>\n",
       "      <td>actress,music_department,producer</td>\n",
       "      <td>tt0057345,tt0049189,tt0056404,tt0054452</td>\n",
       "    </tr>\n",
       "    <tr>\n",
       "      <th>3</th>\n",
       "      <td>nm0000004</td>\n",
       "      <td>John Belushi</td>\n",
       "      <td>1949</td>\n",
       "      <td>1982</td>\n",
       "      <td>actor,writer,music_department</td>\n",
       "      <td>tt0072562,tt0077975,tt0080455,tt0078723</td>\n",
       "    </tr>\n",
       "    <tr>\n",
       "      <th>4</th>\n",
       "      <td>nm0000005</td>\n",
       "      <td>Ingmar Bergman</td>\n",
       "      <td>1918</td>\n",
       "      <td>2007</td>\n",
       "      <td>writer,director,actor</td>\n",
       "      <td>tt0050986,tt0083922,tt0050976,tt0069467</td>\n",
       "    </tr>\n",
       "  </tbody>\n",
       "</table>\n",
       "</div>"
      ],
      "text/plain": [
       "      nconst      primaryName birthYear deathYear  \\\n",
       "0  nm0000001     Fred Astaire      1899      1987   \n",
       "1  nm0000002    Lauren Bacall      1924      2014   \n",
       "2  nm0000003  Brigitte Bardot      1934        \\N   \n",
       "3  nm0000004     John Belushi      1949      1982   \n",
       "4  nm0000005   Ingmar Bergman      1918      2007   \n",
       "\n",
       "                    primaryProfession                           knownForTitles  \n",
       "0        actor,miscellaneous,producer  tt0072308,tt0050419,tt0053137,tt0027125  \n",
       "1  actress,soundtrack,archive_footage  tt0037382,tt0075213,tt0117057,tt0038355  \n",
       "2   actress,music_department,producer  tt0057345,tt0049189,tt0056404,tt0054452  \n",
       "3       actor,writer,music_department  tt0072562,tt0077975,tt0080455,tt0078723  \n",
       "4               writer,director,actor  tt0050986,tt0083922,tt0050976,tt0069467  "
      ]
     },
     "execution_count": 5,
     "metadata": {},
     "output_type": "execute_result"
    }
   ],
   "source": [
    "df1.head()"
   ]
  },
  {
   "cell_type": "code",
   "execution_count": 6,
   "id": "75a52fee-f26d-45ab-b8be-1f9b1de51a22",
   "metadata": {},
   "outputs": [],
   "source": [
    "ignore_cols = ['primaryProfession', 'knownForTitles']\n",
    "\n",
    "rename_dict = {\n",
    "    'nconst': 'nameId:ID(Person)', #'nameId:ID', #\n",
    "    'primaryName': 'name',\n",
    "    'birthYear': 'birthYear:int',\n",
    "    'deathYear': 'deathYear:int'\n",
    "}\n",
    "\n",
    "# for col in ignore_cols:\n",
    "#     rename_dict[col] = f'{col}:IGNORE'\n",
    "drop_cols = ignore_cols"
   ]
  },
  {
   "cell_type": "code",
   "execution_count": 7,
   "id": "6425a2b4-3615-4baf-81bd-9f5e4f1d966e",
   "metadata": {},
   "outputs": [],
   "source": [
    "df1['is_actor'] = np.where(\n",
    "    (df1['primaryProfession'].str.contains('actor')) | (df1['primaryProfession'].str.contains('actress')),\n",
    "    1, 0)\n",
    "df1['is_director'] = np.where(\n",
    "    (df1['primaryProfession'].str.contains('director')),\n",
    "    1, 0)  \n",
    "\n",
    "df1_filt = df1[(df1['is_actor'] == 1) | (df1['is_director'] == 1)]"
   ]
  },
  {
   "cell_type": "code",
   "execution_count": 8,
   "id": "61530589-8232-451d-b6f0-4526b4e5fa2b",
   "metadata": {},
   "outputs": [
    {
     "data": {
      "text/plain": [
       "(6019760, 0.43474919893183206)"
      ]
     },
     "execution_count": 8,
     "metadata": {},
     "output_type": "execute_result"
    }
   ],
   "source": [
    "n = len(df1)\n",
    "nf1 = len(df1_filt)\n",
    "nf1, nf1/n"
   ]
  },
  {
   "cell_type": "code",
   "execution_count": 9,
   "id": "dbc90a04-8d66-45af-9006-50233c309a2f",
   "metadata": {},
   "outputs": [],
   "source": [
    "df1_filt = df1_filt.drop(columns=['is_actor', 'is_director'])# 'primaryProfession:IGNORE', 'knownForTitles:IGNORE'])"
   ]
  },
  {
   "cell_type": "markdown",
   "id": "0184bfb1-fd4f-4551-b342-5cabcb7e9ad7",
   "metadata": {},
   "source": [
    "Remove people who don't have a birth year (imaginary characters?)"
   ]
  },
  {
   "cell_type": "code",
   "execution_count": 10,
   "id": "280e55c9-7113-444a-83cc-bb9a51900e30",
   "metadata": {},
   "outputs": [
    {
     "data": {
      "text/plain": [
       "(434118, 0.07211549962124736)"
      ]
     },
     "execution_count": 10,
     "metadata": {},
     "output_type": "execute_result"
    }
   ],
   "source": [
    "df1_filt = df1_filt[df1_filt['birthYear'] != '\\\\N']\n",
    "\n",
    "n_filt2 = len(df1_filt)\n",
    "n_filt2, n_filt2/nf1"
   ]
  },
  {
   "cell_type": "code",
   "execution_count": 11,
   "id": "67a29a49-124e-4fbf-bbe8-f9371f90a956",
   "metadata": {},
   "outputs": [],
   "source": [
    "# replace '\\N' with nulls\n",
    "df1_filt['deathYear'] = np.where(df1_filt['deathYear'] == '\\\\N', np.nan, df1_filt['deathYear'])"
   ]
  },
  {
   "cell_type": "code",
   "execution_count": 12,
   "id": "41435d96-1025-45d6-81a6-e4600568dadf",
   "metadata": {},
   "outputs": [],
   "source": [
    "df1_rename = (df1_filt\n",
    "              .rename(columns=rename_dict)\n",
    "              .drop(columns=ignore_cols)\n",
    "             )"
   ]
  },
  {
   "cell_type": "code",
   "execution_count": 13,
   "id": "6c176530-8042-401e-bc0f-57d12abc8c59",
   "metadata": {},
   "outputs": [],
   "source": [
    "df1_rename[':LABEL'] = 'Person'"
   ]
  },
  {
   "cell_type": "code",
   "execution_count": 14,
   "id": "c63067fe-b993-4c99-a07c-8ba6f86f1ae4",
   "metadata": {},
   "outputs": [
    {
     "data": {
      "text/html": [
       "<div>\n",
       "<style scoped>\n",
       "    .dataframe tbody tr th:only-of-type {\n",
       "        vertical-align: middle;\n",
       "    }\n",
       "\n",
       "    .dataframe tbody tr th {\n",
       "        vertical-align: top;\n",
       "    }\n",
       "\n",
       "    .dataframe thead th {\n",
       "        text-align: right;\n",
       "    }\n",
       "</style>\n",
       "<table border=\"1\" class=\"dataframe\">\n",
       "  <thead>\n",
       "    <tr style=\"text-align: right;\">\n",
       "      <th></th>\n",
       "      <th>nameId:ID</th>\n",
       "      <th>name</th>\n",
       "      <th>birthYear:int</th>\n",
       "      <th>deathYear:int</th>\n",
       "      <th>:LABEL</th>\n",
       "    </tr>\n",
       "  </thead>\n",
       "  <tbody>\n",
       "    <tr>\n",
       "      <th>28900</th>\n",
       "      <td>nm0030157</td>\n",
       "      <td>Jack Anker</td>\n",
       "      <td>1925</td>\n",
       "      <td>2002</td>\n",
       "      <td>Person</td>\n",
       "    </tr>\n",
       "    <tr>\n",
       "      <th>5338294</th>\n",
       "      <td>nm1478052</td>\n",
       "      <td>Kathy Danzer</td>\n",
       "      <td>1951</td>\n",
       "      <td>NaN</td>\n",
       "      <td>Person</td>\n",
       "    </tr>\n",
       "    <tr>\n",
       "      <th>490144</th>\n",
       "      <td>nm0519247</td>\n",
       "      <td>Karin Longacre</td>\n",
       "      <td>1951</td>\n",
       "      <td>2020</td>\n",
       "      <td>Person</td>\n",
       "    </tr>\n",
       "    <tr>\n",
       "      <th>884741</th>\n",
       "      <td>nm0941168</td>\n",
       "      <td>Richard Woolf</td>\n",
       "      <td>1979</td>\n",
       "      <td>NaN</td>\n",
       "      <td>Person</td>\n",
       "    </tr>\n",
       "    <tr>\n",
       "      <th>817815</th>\n",
       "      <td>nm0869336</td>\n",
       "      <td>Jerry Toth</td>\n",
       "      <td>1928</td>\n",
       "      <td>1999</td>\n",
       "      <td>Person</td>\n",
       "    </tr>\n",
       "    <tr>\n",
       "      <th>124322</th>\n",
       "      <td>nm0130717</td>\n",
       "      <td>Florencio Calpe</td>\n",
       "      <td>1916</td>\n",
       "      <td>1989</td>\n",
       "      <td>Person</td>\n",
       "    </tr>\n",
       "    <tr>\n",
       "      <th>7191553</th>\n",
       "      <td>nm1947433</td>\n",
       "      <td>Adam Sztaba</td>\n",
       "      <td>1975</td>\n",
       "      <td>NaN</td>\n",
       "      <td>Person</td>\n",
       "    </tr>\n",
       "    <tr>\n",
       "      <th>12356544</th>\n",
       "      <td>nm8151982</td>\n",
       "      <td>Duling Chen</td>\n",
       "      <td>1993</td>\n",
       "      <td>NaN</td>\n",
       "      <td>Person</td>\n",
       "    </tr>\n",
       "    <tr>\n",
       "      <th>96323</th>\n",
       "      <td>nm0101076</td>\n",
       "      <td>Lally Bowers</td>\n",
       "      <td>1917</td>\n",
       "      <td>1984</td>\n",
       "      <td>Person</td>\n",
       "    </tr>\n",
       "    <tr>\n",
       "      <th>7305544</th>\n",
       "      <td>nm2076567</td>\n",
       "      <td>Tommi Evilä</td>\n",
       "      <td>1980</td>\n",
       "      <td>NaN</td>\n",
       "      <td>Person</td>\n",
       "    </tr>\n",
       "  </tbody>\n",
       "</table>\n",
       "</div>"
      ],
      "text/plain": [
       "          nameId:ID             name birthYear:int deathYear:int  :LABEL\n",
       "28900     nm0030157       Jack Anker          1925          2002  Person\n",
       "5338294   nm1478052     Kathy Danzer          1951           NaN  Person\n",
       "490144    nm0519247   Karin Longacre          1951          2020  Person\n",
       "884741    nm0941168    Richard Woolf          1979           NaN  Person\n",
       "817815    nm0869336       Jerry Toth          1928          1999  Person\n",
       "124322    nm0130717  Florencio Calpe          1916          1989  Person\n",
       "7191553   nm1947433      Adam Sztaba          1975           NaN  Person\n",
       "12356544  nm8151982      Duling Chen          1993           NaN  Person\n",
       "96323     nm0101076     Lally Bowers          1917          1984  Person\n",
       "7305544   nm2076567      Tommi Evilä          1980           NaN  Person"
      ]
     },
     "execution_count": 14,
     "metadata": {},
     "output_type": "execute_result"
    }
   ],
   "source": [
    "df1_rename.sample(10)"
   ]
  },
  {
   "cell_type": "code",
   "execution_count": 15,
   "id": "fa7701ee-4f88-4f94-94f5-0b6bb6f4554e",
   "metadata": {},
   "outputs": [
    {
     "data": {
      "text/plain": [
       "434118"
      ]
     },
     "execution_count": 15,
     "metadata": {},
     "output_type": "execute_result"
    }
   ],
   "source": [
    "len(df1_rename)"
   ]
  },
  {
   "cell_type": "code",
   "execution_count": 16,
   "id": "08e73c7c-5e88-4f32-8b0c-efb592361d60",
   "metadata": {},
   "outputs": [],
   "source": [
    "# df1_rename.to_csv(os.path.join(DATA_DIR, \"filt.name.basics.tsv\"), sep='\\t', header=True, index=False)\n",
    "df1_rename.to_csv(os.path.join(DATA_DIR, \"names.tsv\"), sep='\\t', header=True, index=False)"
   ]
  },
  {
   "cell_type": "code",
   "execution_count": 17,
   "id": "a8b10c7a-92a9-45bb-bf4d-dd1897b85048",
   "metadata": {},
   "outputs": [],
   "source": [
    "del df1, df1_filt, df1_rename"
   ]
  },
  {
   "cell_type": "markdown",
   "id": "77b4ee45-8e23-4567-a1a1-df8c8a7dd7f9",
   "metadata": {},
   "source": [
    "# title basics"
   ]
  },
  {
   "cell_type": "code",
   "execution_count": 18,
   "id": "2c00e70c-515f-4994-a8c8-3ebb4a12efdb",
   "metadata": {},
   "outputs": [
    {
     "name": "stderr",
     "output_type": "stream",
     "text": [
      "/var/folders/mp/z98sg8jn1q3bx499xmgkf_040000gn/T/ipykernel_30477/2806677326.py:2: DtypeWarning: Columns (4) have mixed types. Specify dtype option on import or set low_memory=False.\n",
      "  df = pd.read_csv(file_path, sep='\\t') #, low_memory=False)\n"
     ]
    }
   ],
   "source": [
    "file_path = os.path.join(DATA_DIR, \"title.basics.tsv\")\n",
    "df = pd.read_csv(file_path, sep='\\t') #, low_memory=False)"
   ]
  },
  {
   "cell_type": "code",
   "execution_count": 19,
   "id": "45318997-fa25-4c9b-9532-725cd993bdbd",
   "metadata": {},
   "outputs": [
    {
     "data": {
      "text/html": [
       "<div>\n",
       "<style scoped>\n",
       "    .dataframe tbody tr th:only-of-type {\n",
       "        vertical-align: middle;\n",
       "    }\n",
       "\n",
       "    .dataframe tbody tr th {\n",
       "        vertical-align: top;\n",
       "    }\n",
       "\n",
       "    .dataframe thead th {\n",
       "        text-align: right;\n",
       "    }\n",
       "</style>\n",
       "<table border=\"1\" class=\"dataframe\">\n",
       "  <thead>\n",
       "    <tr style=\"text-align: right;\">\n",
       "      <th></th>\n",
       "      <th>tconst</th>\n",
       "      <th>titleType</th>\n",
       "      <th>primaryTitle</th>\n",
       "      <th>originalTitle</th>\n",
       "      <th>isAdult</th>\n",
       "      <th>startYear</th>\n",
       "      <th>endYear</th>\n",
       "      <th>runtimeMinutes</th>\n",
       "      <th>genres</th>\n",
       "    </tr>\n",
       "  </thead>\n",
       "  <tbody>\n",
       "    <tr>\n",
       "      <th>0</th>\n",
       "      <td>tt0000001</td>\n",
       "      <td>short</td>\n",
       "      <td>Carmencita</td>\n",
       "      <td>Carmencita</td>\n",
       "      <td>0</td>\n",
       "      <td>1894</td>\n",
       "      <td>\\N</td>\n",
       "      <td>1</td>\n",
       "      <td>Documentary,Short</td>\n",
       "    </tr>\n",
       "    <tr>\n",
       "      <th>1</th>\n",
       "      <td>tt0000002</td>\n",
       "      <td>short</td>\n",
       "      <td>Le clown et ses chiens</td>\n",
       "      <td>Le clown et ses chiens</td>\n",
       "      <td>0</td>\n",
       "      <td>1892</td>\n",
       "      <td>\\N</td>\n",
       "      <td>5</td>\n",
       "      <td>Animation,Short</td>\n",
       "    </tr>\n",
       "    <tr>\n",
       "      <th>2</th>\n",
       "      <td>tt0000003</td>\n",
       "      <td>short</td>\n",
       "      <td>Pauvre Pierrot</td>\n",
       "      <td>Pauvre Pierrot</td>\n",
       "      <td>0</td>\n",
       "      <td>1892</td>\n",
       "      <td>\\N</td>\n",
       "      <td>5</td>\n",
       "      <td>Animation,Comedy,Romance</td>\n",
       "    </tr>\n",
       "    <tr>\n",
       "      <th>3</th>\n",
       "      <td>tt0000004</td>\n",
       "      <td>short</td>\n",
       "      <td>Un bon bock</td>\n",
       "      <td>Un bon bock</td>\n",
       "      <td>0</td>\n",
       "      <td>1892</td>\n",
       "      <td>\\N</td>\n",
       "      <td>12</td>\n",
       "      <td>Animation,Short</td>\n",
       "    </tr>\n",
       "    <tr>\n",
       "      <th>4</th>\n",
       "      <td>tt0000005</td>\n",
       "      <td>short</td>\n",
       "      <td>Blacksmith Scene</td>\n",
       "      <td>Blacksmith Scene</td>\n",
       "      <td>0</td>\n",
       "      <td>1893</td>\n",
       "      <td>\\N</td>\n",
       "      <td>1</td>\n",
       "      <td>Comedy,Short</td>\n",
       "    </tr>\n",
       "  </tbody>\n",
       "</table>\n",
       "</div>"
      ],
      "text/plain": [
       "      tconst titleType            primaryTitle           originalTitle  \\\n",
       "0  tt0000001     short              Carmencita              Carmencita   \n",
       "1  tt0000002     short  Le clown et ses chiens  Le clown et ses chiens   \n",
       "2  tt0000003     short          Pauvre Pierrot          Pauvre Pierrot   \n",
       "3  tt0000004     short             Un bon bock             Un bon bock   \n",
       "4  tt0000005     short        Blacksmith Scene        Blacksmith Scene   \n",
       "\n",
       "  isAdult startYear endYear runtimeMinutes                    genres  \n",
       "0       0      1894      \\N              1         Documentary,Short  \n",
       "1       0      1892      \\N              5           Animation,Short  \n",
       "2       0      1892      \\N              5  Animation,Comedy,Romance  \n",
       "3       0      1892      \\N             12           Animation,Short  \n",
       "4       0      1893      \\N              1              Comedy,Short  "
      ]
     },
     "execution_count": 19,
     "metadata": {},
     "output_type": "execute_result"
    }
   ],
   "source": [
    "df.head()"
   ]
  },
  {
   "cell_type": "code",
   "execution_count": 20,
   "id": "ea3767d8-b450-437d-aa13-bca1aa0e2c68",
   "metadata": {},
   "outputs": [],
   "source": [
    "\n",
    "rename_dict = {\n",
    "    'tconst': 'titleId:ID(Movie)', # 'titleId:ID', #\n",
    "    'primaryTitle': 'title',\n",
    "    'startYear': 'year:int',\n",
    "    'runtimeMinutes': 'runtimeMinutes:int'\n",
    "}\n",
    "\n",
    "# we'll drop the rest\n",
    "drop_cols = ['isAdult', 'originalTitle', 'endYear', 'titleType']"
   ]
  },
  {
   "cell_type": "code",
   "execution_count": 21,
   "id": "776aca82-4ba2-4952-ad7b-723348da4ab3",
   "metadata": {},
   "outputs": [
    {
     "data": {
      "text/plain": [
       "(10706453, 0.962146450179395)"
      ]
     },
     "execution_count": 21,
     "metadata": {},
     "output_type": "execute_result"
    }
   ],
   "source": [
    "n = len(df)\n",
    "\n",
    "df_filt = df[df['isAdult'] == 0]\n",
    "\n",
    "n_filt = len(df_filt)\n",
    "n_filt, n_filt/n"
   ]
  },
  {
   "cell_type": "code",
   "execution_count": 22,
   "id": "41fe01ef-6f34-4409-a37b-e88ea3a13e4f",
   "metadata": {},
   "outputs": [
    {
     "data": {
      "text/plain": [
       "(681857, 0.06368654492762449)"
      ]
     },
     "execution_count": 22,
     "metadata": {},
     "output_type": "execute_result"
    }
   ],
   "source": [
    "df_movies = df_filt[df_filt['titleType'] == 'movie']\n",
    "n_m = len(df_movies)\n",
    "n_m, n_m/n_filt"
   ]
  },
  {
   "cell_type": "code",
   "execution_count": 23,
   "id": "195bbc98-d56c-450b-9deb-b314a1ed1af2",
   "metadata": {},
   "outputs": [
    {
     "name": "stderr",
     "output_type": "stream",
     "text": [
      "/var/folders/mp/z98sg8jn1q3bx499xmgkf_040000gn/T/ipykernel_30477/3649384730.py:2: SettingWithCopyWarning: \n",
      "A value is trying to be set on a copy of a slice from a DataFrame.\n",
      "Try using .loc[row_indexer,col_indexer] = value instead\n",
      "\n",
      "See the caveats in the documentation: https://pandas.pydata.org/pandas-docs/stable/user_guide/indexing.html#returning-a-view-versus-a-copy\n",
      "  df_movies['startYear'] = np.where(df_movies['startYear'] == '\\\\N', np.nan, df_movies['startYear'])\n",
      "/var/folders/mp/z98sg8jn1q3bx499xmgkf_040000gn/T/ipykernel_30477/3649384730.py:3: SettingWithCopyWarning: \n",
      "A value is trying to be set on a copy of a slice from a DataFrame.\n",
      "Try using .loc[row_indexer,col_indexer] = value instead\n",
      "\n",
      "See the caveats in the documentation: https://pandas.pydata.org/pandas-docs/stable/user_guide/indexing.html#returning-a-view-versus-a-copy\n",
      "  df_movies['runtimeMinutes'] = np.where(df_movies['runtimeMinutes'] == '\\\\N', np.nan, df_movies['runtimeMinutes'])\n"
     ]
    }
   ],
   "source": [
    "# replace '\\N' with nulls\n",
    "df_movies['startYear'] = np.where(df_movies['startYear'] == '\\\\N', np.nan, df_movies['startYear'])\n",
    "df_movies['runtimeMinutes'] = np.where(df_movies['runtimeMinutes'] == '\\\\N', np.nan, df_movies['runtimeMinutes'])"
   ]
  },
  {
   "cell_type": "code",
   "execution_count": 24,
   "id": "ccf97913-b2c6-4448-a5d9-6632409c2ef9",
   "metadata": {},
   "outputs": [],
   "source": [
    "df_rename = (df_movies\n",
    "             .drop(columns=drop_cols)\n",
    "             .rename(columns=rename_dict)\n",
    "            )"
   ]
  },
  {
   "cell_type": "code",
   "execution_count": 25,
   "id": "bd69f986-8d1b-4261-a7a2-9e5f3be85eca",
   "metadata": {},
   "outputs": [],
   "source": [
    "df_rename[':LABEL'] = 'Movie'"
   ]
  },
  {
   "cell_type": "code",
   "execution_count": 26,
   "id": "fd9d8d7b-1ab3-40e4-b8d7-63bc6720ce4d",
   "metadata": {},
   "outputs": [
    {
     "data": {
      "text/html": [
       "<div>\n",
       "<style scoped>\n",
       "    .dataframe tbody tr th:only-of-type {\n",
       "        vertical-align: middle;\n",
       "    }\n",
       "\n",
       "    .dataframe tbody tr th {\n",
       "        vertical-align: top;\n",
       "    }\n",
       "\n",
       "    .dataframe thead th {\n",
       "        text-align: right;\n",
       "    }\n",
       "</style>\n",
       "<table border=\"1\" class=\"dataframe\">\n",
       "  <thead>\n",
       "    <tr style=\"text-align: right;\">\n",
       "      <th></th>\n",
       "      <th>titleId:ID</th>\n",
       "      <th>title</th>\n",
       "      <th>year:int</th>\n",
       "      <th>runtimeMinutes:int</th>\n",
       "      <th>genres</th>\n",
       "      <th>:LABEL</th>\n",
       "    </tr>\n",
       "  </thead>\n",
       "  <tbody>\n",
       "    <tr>\n",
       "      <th>11097007</th>\n",
       "      <td>tt9849964</td>\n",
       "      <td>All of Them Are Troublesome Girls!</td>\n",
       "      <td>2019</td>\n",
       "      <td>79</td>\n",
       "      <td>Comedy,Romance</td>\n",
       "      <td>Movie</td>\n",
       "    </tr>\n",
       "    <tr>\n",
       "      <th>3901677</th>\n",
       "      <td>tt1538901</td>\n",
       "      <td>Next Year Country</td>\n",
       "      <td>2010</td>\n",
       "      <td>57</td>\n",
       "      <td>Documentary,News,Western</td>\n",
       "      <td>Movie</td>\n",
       "    </tr>\n",
       "    <tr>\n",
       "      <th>6903109</th>\n",
       "      <td>tt28650534</td>\n",
       "      <td>Song of the Body</td>\n",
       "      <td>NaN</td>\n",
       "      <td>90</td>\n",
       "      <td>Drama,Musical</td>\n",
       "      <td>Movie</td>\n",
       "    </tr>\n",
       "    <tr>\n",
       "      <th>5752943</th>\n",
       "      <td>tt2248675</td>\n",
       "      <td>Ang leon, ang tigre, at ang alamid</td>\n",
       "      <td>1979</td>\n",
       "      <td>113</td>\n",
       "      <td>Action</td>\n",
       "      <td>Movie</td>\n",
       "    </tr>\n",
       "    <tr>\n",
       "      <th>8301264</th>\n",
       "      <td>tt3635544</td>\n",
       "      <td>Imagining Indians</td>\n",
       "      <td>1992</td>\n",
       "      <td>60</td>\n",
       "      <td>Documentary,History</td>\n",
       "      <td>Movie</td>\n",
       "    </tr>\n",
       "    <tr>\n",
       "      <th>9006376</th>\n",
       "      <td>tt5232126</td>\n",
       "      <td>Mestisang Bangus</td>\n",
       "      <td>1963</td>\n",
       "      <td>NaN</td>\n",
       "      <td>Comedy</td>\n",
       "      <td>Movie</td>\n",
       "    </tr>\n",
       "    <tr>\n",
       "      <th>6341841</th>\n",
       "      <td>tt2671344</td>\n",
       "      <td>Birbal My Brother</td>\n",
       "      <td>1973</td>\n",
       "      <td>105</td>\n",
       "      <td>Drama</td>\n",
       "      <td>Movie</td>\n",
       "    </tr>\n",
       "    <tr>\n",
       "      <th>5543160</th>\n",
       "      <td>tt2165739</td>\n",
       "      <td>Easy come, easy go</td>\n",
       "      <td>2008</td>\n",
       "      <td>94</td>\n",
       "      <td>Crime</td>\n",
       "      <td>Movie</td>\n",
       "    </tr>\n",
       "    <tr>\n",
       "      <th>3027605</th>\n",
       "      <td>tt13776786</td>\n",
       "      <td>Person Woman Man Camera TV</td>\n",
       "      <td>2022</td>\n",
       "      <td>77</td>\n",
       "      <td>Drama</td>\n",
       "      <td>Movie</td>\n",
       "    </tr>\n",
       "    <tr>\n",
       "      <th>26253</th>\n",
       "      <td>tt0026730</td>\n",
       "      <td>The Morals of Marcus</td>\n",
       "      <td>1935</td>\n",
       "      <td>75</td>\n",
       "      <td>Comedy</td>\n",
       "      <td>Movie</td>\n",
       "    </tr>\n",
       "  </tbody>\n",
       "</table>\n",
       "</div>"
      ],
      "text/plain": [
       "          titleId:ID                               title year:int  \\\n",
       "11097007   tt9849964  All of Them Are Troublesome Girls!     2019   \n",
       "3901677    tt1538901                   Next Year Country     2010   \n",
       "6903109   tt28650534                    Song of the Body      NaN   \n",
       "5752943    tt2248675  Ang leon, ang tigre, at ang alamid     1979   \n",
       "8301264    tt3635544                   Imagining Indians     1992   \n",
       "9006376    tt5232126                    Mestisang Bangus     1963   \n",
       "6341841    tt2671344                   Birbal My Brother     1973   \n",
       "5543160    tt2165739                  Easy come, easy go     2008   \n",
       "3027605   tt13776786          Person Woman Man Camera TV     2022   \n",
       "26253      tt0026730                The Morals of Marcus     1935   \n",
       "\n",
       "         runtimeMinutes:int                    genres :LABEL  \n",
       "11097007                 79            Comedy,Romance  Movie  \n",
       "3901677                  57  Documentary,News,Western  Movie  \n",
       "6903109                  90             Drama,Musical  Movie  \n",
       "5752943                 113                    Action  Movie  \n",
       "8301264                  60       Documentary,History  Movie  \n",
       "9006376                 NaN                    Comedy  Movie  \n",
       "6341841                 105                     Drama  Movie  \n",
       "5543160                  94                     Crime  Movie  \n",
       "3027605                  77                     Drama  Movie  \n",
       "26253                    75                    Comedy  Movie  "
      ]
     },
     "execution_count": 26,
     "metadata": {},
     "output_type": "execute_result"
    }
   ],
   "source": [
    "df_rename.sample(10)"
   ]
  },
  {
   "cell_type": "code",
   "execution_count": 27,
   "id": "3ab14f91-694a-491a-9729-e06b138aa1c0",
   "metadata": {},
   "outputs": [
    {
     "data": {
      "text/plain": [
       "681857"
      ]
     },
     "execution_count": 27,
     "metadata": {},
     "output_type": "execute_result"
    }
   ],
   "source": [
    "len(df_rename)"
   ]
  },
  {
   "cell_type": "code",
   "execution_count": 28,
   "id": "7a1c4348-6d7a-4192-9ac3-5bbe9680bc5c",
   "metadata": {},
   "outputs": [],
   "source": [
    "# df_rename.to_csv(os.path.join(DATA_DIR, \"filt.titles.basic.tsv\"), sep=\"\\t\", header=True, index=False)\n",
    "df_rename.to_csv(os.path.join(DATA_DIR, \"movies.tsv\"), sep=\"\\t\", header=True, index=False)"
   ]
  },
  {
   "cell_type": "code",
   "execution_count": 29,
   "id": "c0043e6a-67c2-4478-9ee3-3739e1810ee8",
   "metadata": {},
   "outputs": [],
   "source": [
    "del df, df_movies, df_rename"
   ]
  },
  {
   "cell_type": "markdown",
   "id": "099b7b1e-96aa-4435-92c3-73d93e7cbab7",
   "metadata": {},
   "source": [
    "# check principal (relationship?)"
   ]
  },
  {
   "cell_type": "code",
   "execution_count": null,
   "id": "c5fb660f-d0c3-473b-bd69-e7a7962915f2",
   "metadata": {},
   "outputs": [],
   "source": [
    "file_path = os.path.join(DATA_DIR, \"filt.title.principals.tsv\")\n",
    "df = pd.read_csv(file_path, sep='\\t', nrows=10000)"
   ]
  },
  {
   "cell_type": "code",
   "execution_count": null,
   "id": "0abbb83d-0c00-4619-bc43-af1685b50819",
   "metadata": {},
   "outputs": [],
   "source": [
    "df.head()"
   ]
  },
  {
   "cell_type": "code",
   "execution_count": null,
   "id": "74f1469e-5b64-44b2-8fb8-c5dcd1ede310",
   "metadata": {},
   "outputs": [],
   "source": [
    "df.info()"
   ]
  },
  {
   "cell_type": "code",
   "execution_count": 35,
   "id": "806d777d-8b37-4379-8e90-7409428a1e0f",
   "metadata": {},
   "outputs": [],
   "source": [
    "file_path = os.path.join(DATA_DIR, \"roles.tsv\")\n",
    "df = pd.read_csv(file_path, sep='\\t', header=None)"
   ]
  },
  {
   "cell_type": "code",
   "execution_count": 36,
   "id": "fd2d6d98-dc37-4320-8840-1942f7f818f7",
   "metadata": {},
   "outputs": [
    {
     "data": {
      "text/html": [
       "<div>\n",
       "<style scoped>\n",
       "    .dataframe tbody tr th:only-of-type {\n",
       "        vertical-align: middle;\n",
       "    }\n",
       "\n",
       "    .dataframe tbody tr th {\n",
       "        vertical-align: top;\n",
       "    }\n",
       "\n",
       "    .dataframe thead th {\n",
       "        text-align: right;\n",
       "    }\n",
       "</style>\n",
       "<table border=\"1\" class=\"dataframe\">\n",
       "  <thead>\n",
       "    <tr style=\"text-align: right;\">\n",
       "      <th></th>\n",
       "      <th>0</th>\n",
       "      <th>1</th>\n",
       "      <th>2</th>\n",
       "    </tr>\n",
       "  </thead>\n",
       "  <tbody>\n",
       "    <tr>\n",
       "      <th>0</th>\n",
       "      <td>tt0000001</td>\n",
       "      <td>nm0005690</td>\n",
       "      <td>director</td>\n",
       "    </tr>\n",
       "    <tr>\n",
       "      <th>1</th>\n",
       "      <td>tt0000002</td>\n",
       "      <td>nm0721526</td>\n",
       "      <td>director</td>\n",
       "    </tr>\n",
       "    <tr>\n",
       "      <th>2</th>\n",
       "      <td>tt0000003</td>\n",
       "      <td>nm0721526</td>\n",
       "      <td>director</td>\n",
       "    </tr>\n",
       "    <tr>\n",
       "      <th>3</th>\n",
       "      <td>tt0000004</td>\n",
       "      <td>nm0721526</td>\n",
       "      <td>director</td>\n",
       "    </tr>\n",
       "    <tr>\n",
       "      <th>4</th>\n",
       "      <td>tt0000005</td>\n",
       "      <td>nm0443482</td>\n",
       "      <td>actor</td>\n",
       "    </tr>\n",
       "  </tbody>\n",
       "</table>\n",
       "</div>"
      ],
      "text/plain": [
       "           0          1         2\n",
       "0  tt0000001  nm0005690  director\n",
       "1  tt0000002  nm0721526  director\n",
       "2  tt0000003  nm0721526  director\n",
       "3  tt0000004  nm0721526  director\n",
       "4  tt0000005  nm0443482     actor"
      ]
     },
     "execution_count": 36,
     "metadata": {},
     "output_type": "execute_result"
    }
   ],
   "source": [
    "df.head()"
   ]
  },
  {
   "cell_type": "code",
   "execution_count": 37,
   "id": "90c86d3b-159d-4f43-9ea0-828b16ae5175",
   "metadata": {},
   "outputs": [],
   "source": [
    "df.columns = ['movieId', 'personId', 'rel_type']"
   ]
  },
  {
   "cell_type": "code",
   "execution_count": 32,
   "id": "8a577125-3ef7-4ed2-acf4-235b336b6f00",
   "metadata": {},
   "outputs": [
    {
     "data": {
      "text/plain": [
       "44521804"
      ]
     },
     "execution_count": 32,
     "metadata": {},
     "output_type": "execute_result"
    }
   ],
   "source": [
    "len(df)"
   ]
  },
  {
   "cell_type": "code",
   "execution_count": 39,
   "id": "d37b7697-f1cb-4be9-ab1d-9712a89ca772",
   "metadata": {},
   "outputs": [
    {
     "data": {
      "text/plain": [
       "0"
      ]
     },
     "execution_count": 39,
     "metadata": {},
     "output_type": "execute_result"
    }
   ],
   "source": [
    "len(df[df['movieId'].isna()])"
   ]
  },
  {
   "cell_type": "code",
   "execution_count": 40,
   "id": "f9654333-0077-49d8-bbc5-1d27a269a6c7",
   "metadata": {},
   "outputs": [
    {
     "data": {
      "text/plain": [
       "0"
      ]
     },
     "execution_count": 40,
     "metadata": {},
     "output_type": "execute_result"
    }
   ],
   "source": [
    "len(df[df['personId'].isna()])"
   ]
  },
  {
   "cell_type": "code",
   "execution_count": 41,
   "id": "413bba78-3a13-44f9-8c2d-65fd883ad163",
   "metadata": {},
   "outputs": [
    {
     "data": {
      "text/plain": [
       "0"
      ]
     },
     "execution_count": 41,
     "metadata": {},
     "output_type": "execute_result"
    }
   ],
   "source": [
    "len(df[df['rel_type'].isna()])"
   ]
  },
  {
   "cell_type": "code",
   "execution_count": 42,
   "id": "884eea71-7066-402f-96f0-2dfe25c70179",
   "metadata": {},
   "outputs": [],
   "source": [
    "name_df = pd.read_csv(os.path.join(DATA_DIR, 'names.tsv'), sep='\\t')"
   ]
  },
  {
   "cell_type": "code",
   "execution_count": 43,
   "id": "408bade6-267d-450c-8891-4a9ef687998b",
   "metadata": {},
   "outputs": [],
   "source": [
    "movies_df = pd.read_csv(os.path.join(DATA_DIR, 'movies.tsv'), sep='\\t')"
   ]
  },
  {
   "cell_type": "code",
   "execution_count": 44,
   "id": "e0e49ba6-8c3d-4620-b2c3-fa5c76ff352a",
   "metadata": {},
   "outputs": [],
   "source": [
    "names = name_df['nameId:ID(Person)'].unique()\n",
    "movies = movies_df['titleId:ID(Movie)'].unique()"
   ]
  },
  {
   "cell_type": "code",
   "execution_count": 45,
   "id": "c88b2b2a-896b-4442-abad-f81236011f52",
   "metadata": {},
   "outputs": [],
   "source": [
    "df_filt = df[\n",
    "    (df['personId'].isin(names)) & (df['movieId'].isin(movies))\n",
    "]"
   ]
  },
  {
   "cell_type": "code",
   "execution_count": 46,
   "id": "e6a6d8be-b296-436a-b291-425c8592f468",
   "metadata": {},
   "outputs": [
    {
     "data": {
      "text/plain": [
       "(44521805, 2166612)"
      ]
     },
     "execution_count": 46,
     "metadata": {},
     "output_type": "execute_result"
    }
   ],
   "source": [
    "len(df), len(df_filt)"
   ]
  },
  {
   "cell_type": "code",
   "execution_count": 50,
   "id": "7ec4a3ca-23b7-480d-9858-6694b60d6397",
   "metadata": {},
   "outputs": [],
   "source": [
    "df_filt.columns = [\":END_ID(Movie)\", \":START_ID(Person)\", \":TYPE\"]"
   ]
  },
  {
   "cell_type": "code",
   "execution_count": 51,
   "id": "6e9ae1e7-4669-4b97-8193-93b07816d1bf",
   "metadata": {},
   "outputs": [
    {
     "data": {
      "text/html": [
       "<div>\n",
       "<style scoped>\n",
       "    .dataframe tbody tr th:only-of-type {\n",
       "        vertical-align: middle;\n",
       "    }\n",
       "\n",
       "    .dataframe tbody tr th {\n",
       "        vertical-align: top;\n",
       "    }\n",
       "\n",
       "    .dataframe thead th {\n",
       "        text-align: right;\n",
       "    }\n",
       "</style>\n",
       "<table border=\"1\" class=\"dataframe\">\n",
       "  <thead>\n",
       "    <tr style=\"text-align: right;\">\n",
       "      <th></th>\n",
       "      <th>:END_ID(Movie)</th>\n",
       "      <th>:START_ID(Person)</th>\n",
       "      <th>:TYPE</th>\n",
       "    </tr>\n",
       "  </thead>\n",
       "  <tbody>\n",
       "    <tr>\n",
       "      <th>12</th>\n",
       "      <td>tt0000009</td>\n",
       "      <td>nm0063086</td>\n",
       "      <td>actor</td>\n",
       "    </tr>\n",
       "    <tr>\n",
       "      <th>13</th>\n",
       "      <td>tt0000009</td>\n",
       "      <td>nm0183823</td>\n",
       "      <td>actor</td>\n",
       "    </tr>\n",
       "    <tr>\n",
       "      <th>14</th>\n",
       "      <td>tt0000009</td>\n",
       "      <td>nm1309758</td>\n",
       "      <td>actor</td>\n",
       "    </tr>\n",
       "    <tr>\n",
       "      <th>15</th>\n",
       "      <td>tt0000009</td>\n",
       "      <td>nm0085156</td>\n",
       "      <td>director</td>\n",
       "    </tr>\n",
       "    <tr>\n",
       "      <th>187</th>\n",
       "      <td>tt0000147</td>\n",
       "      <td>nm0714557</td>\n",
       "      <td>director</td>\n",
       "    </tr>\n",
       "  </tbody>\n",
       "</table>\n",
       "</div>"
      ],
      "text/plain": [
       "    :END_ID(Movie) :START_ID(Person)     :TYPE\n",
       "12       tt0000009         nm0063086     actor\n",
       "13       tt0000009         nm0183823     actor\n",
       "14       tt0000009         nm1309758     actor\n",
       "15       tt0000009         nm0085156  director\n",
       "187      tt0000147         nm0714557  director"
      ]
     },
     "execution_count": 51,
     "metadata": {},
     "output_type": "execute_result"
    }
   ],
   "source": [
    "df_filt.head()"
   ]
  },
  {
   "cell_type": "code",
   "execution_count": 52,
   "id": "5309dfb7-114e-4ae3-ac53-5c3fd30de7f5",
   "metadata": {},
   "outputs": [],
   "source": [
    "df_filt.to_csv(os.path.join(DATA_DIR, \"roles.filt.tsv\"), sep=\"\\t\", header=True, index=False)"
   ]
  },
  {
   "cell_type": "markdown",
   "id": "b391b3df-e459-4fa9-93e1-5177f0c6655e",
   "metadata": {},
   "source": [
    "# dummy data"
   ]
  },
  {
   "cell_type": "code",
   "execution_count": null,
   "id": "9500a74d-b21c-4a15-8d62-3f9ca2725e35",
   "metadata": {},
   "outputs": [],
   "source": [
    "names_df = pd.read_csv(os.path.join(DATA_DIR, 'filt.name.basics.tsv'), sep='\\t')"
   ]
  },
  {
   "cell_type": "code",
   "execution_count": null,
   "id": "425cb88b-9198-4434-a915-358bc82154e6",
   "metadata": {},
   "outputs": [],
   "source": [
    "names_df.head()"
   ]
  },
  {
   "cell_type": "code",
   "execution_count": null,
   "id": "904f4d86-4c83-4287-aa92-3029c40e794b",
   "metadata": {},
   "outputs": [],
   "source": [
    "movies_df = pd.read_csv(os.path.join(DATA_DIR, 'filt.titles.basic.tsv'), sep='\\t')"
   ]
  },
  {
   "cell_type": "code",
   "execution_count": null,
   "id": "d6c987e1-f12e-46bd-bcc8-2155016453eb",
   "metadata": {},
   "outputs": [],
   "source": [
    "movies_df.head()"
   ]
  },
  {
   "cell_type": "code",
   "execution_count": null,
   "id": "be930258-abf2-4624-a0b4-e50ffd038f4e",
   "metadata": {},
   "outputs": [],
   "source": [
    "movies_df[movies_df['startYear'] > 1980].sample(5)"
   ]
  },
  {
   "cell_type": "code",
   "execution_count": null,
   "id": "96c18c00-b5d5-4809-9239-76e337b24602",
   "metadata": {},
   "outputs": [],
   "source": [
    "movies_df[movies_df['startYear'] > 1980].sample(5)"
   ]
  },
  {
   "cell_type": "code",
   "execution_count": null,
   "id": "c792af64-a81d-4585-9ea5-44eebcb92b5b",
   "metadata": {},
   "outputs": [],
   "source": [
    "names_df[names_df['birthYear'] > 1960].sample(5)"
   ]
  },
  {
   "cell_type": "code",
   "execution_count": null,
   "id": "082f07aa-a507-46fb-9335-258987fae84e",
   "metadata": {},
   "outputs": [],
   "source": []
  }
 ],
 "metadata": {
  "kernelspec": {
   "display_name": "general-eda",
   "language": "python",
   "name": "general-eda"
  },
  "language_info": {
   "codemirror_mode": {
    "name": "ipython",
    "version": 3
   },
   "file_extension": ".py",
   "mimetype": "text/x-python",
   "name": "python",
   "nbconvert_exporter": "python",
   "pygments_lexer": "ipython3",
   "version": "3.11.5"
  }
 },
 "nbformat": 4,
 "nbformat_minor": 5
}
